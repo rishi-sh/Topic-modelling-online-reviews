{
 "cells": [
  {
   "cell_type": "markdown",
   "metadata": {},
   "source": [
    "# Mining Online reviews using Topic Modeling"
   ]
  },
  {
   "cell_type": "markdown",
   "metadata": {},
   "source": [
    "## Introduction\n",
    "To buy a product, It’s just a search and a few clicks away. Items are delivered within a matter of days (sometimes even the next day!).For online retailers, there are no constraints related to inventory management or space management They can sell as many different products as they want.\n",
    "\n",
    "One of the biggest challenges is verifying the authenticity of a product. Is it as good as advertised on the e-commerce site? Will the product last more than a year? Are the reviews given by other customers really true or are they false advertising? These are important questions customers need to ask before splurging their money.\n",
   ]
  },
  {
   "cell_type": "markdown",
   "metadata": {},
   "source": [
    "### Problem Statement\n",
    "Online product reviews are a great source of information for consumers. From the sellers’ point of view, online reviews can be used to gauge the consumers’ feedback on the products or services they are selling. However, since these online reviews are quite often overwhelming in terms of numbers and information, an intelligent system, capable of finding key insights (topics) from these reviews, will be of great help for both the consumers and the sellers. This system will serve two purposes:\n",
    "\n",
    ">Enable consumers to quickly extract the key topics covered by the reviews without having to go through all of them\n",
    "\n",
    ">Help the sellers/retailers get consumer feedback in the form of topics (extracted from the consumer reviews)\n",
   ]
  },
  {
   "cell_type": "markdown",
   "metadata": {},
   "source": [
    "#### Why Topic Modeling\n",
    "As the name suggests, Topic Modeling is a process to automatically identify topics present in a text object and to derive hidden patterns exhibited by a text corpus. Topic Models are very useful for multiple purposes, including:\n",
    "\n",
    "1.Document clustering\n",
    "\n",
    "2.Organizing large blocks of textual data\n",
    "\n",
    "3.Information retrieval from unstructured text\n",
    "\n",
    "4.Feature selection"
   ]
  },
  {
   "cell_type": "markdown",
   "metadata": {},
   "source": [
    "In our case, instead of text documents, we have thousands of online product reviews for the items listed under the ‘Automotive’ category. Our aim here is to extract a certain number of groups of important words from the reviews. These groups of words are basically the topics which would help in ascertaining what the consumers are actually talking about in the reviews."
   ]
  },
  {
   "cell_type": "markdown",
   "metadata": {},
   "source": [
    "#### Import necessary packages"
   ]
  },
  {
   "cell_type": "code",
   "execution_count": 1,
   "metadata": {},
   "outputs": [
    {
     "name": "stdout",
     "output_type": "stream",
     "text": [
      "[nltk_data] Downloading package stopwords to\n",
      "[nltk_data]     C:\\Users\\hp\\AppData\\Roaming\\nltk_data...\n",
      "[nltk_data]   Package stopwords is already up-to-date!\n"
     ]
    },
    {
     "data": {
      "text/plain": [
       "True"
      ]
     },
     "execution_count": 1,
     "metadata": {},
     "output_type": "execute_result"
    }
   ],
   "source": [
    "import nltk\n",
    "from nltk import FreqDist\n",
    "nltk.download('stopwords') # run this one time"
   ]
  },
  {
   "cell_type": "code",
   "execution_count": 2,
   "metadata": {},
   "outputs": [],
   "source": [
    "import pandas as pd\n",
    "pd.set_option(\"display.max_colwidth\", 200)\n",
    "import numpy as np\n",
    "import re\n",
    "import spacy\n",
    "\n",
    "import gensim\n",
    "from gensim import corpora\n",
    "\n",
    "# libraries for visualization\n",
    "import pyLDAvis\n",
    "import pyLDAvis.gensim\n",
    "import matplotlib.pyplot as plt\n",
    "import seaborn as sns\n",
    "%matplotlib inline"
   ]
  },
  {
   "cell_type": "code",
   "execution_count": 3,
   "metadata": {},
   "outputs": [
    {
     "data": {
      "text/html": [
       "<div>\n",
       "<style scoped>\n",
       "    .dataframe tbody tr th:only-of-type {\n",
       "        vertical-align: middle;\n",
       "    }\n",
       "\n",
       "    .dataframe tbody tr th {\n",
       "        vertical-align: top;\n",
       "    }\n",
       "\n",
       "    .dataframe thead th {\n",
       "        text-align: right;\n",
       "    }\n",
       "</style>\n",
       "<table border=\"1\" class=\"dataframe\">\n",
       "  <thead>\n",
       "    <tr style=\"text-align: right;\">\n",
       "      <th></th>\n",
       "      <th>asin</th>\n",
       "      <th>helpful</th>\n",
       "      <th>overall</th>\n",
       "      <th>reviewText</th>\n",
       "      <th>reviewTime</th>\n",
       "      <th>reviewerID</th>\n",
       "      <th>reviewerName</th>\n",
       "      <th>summary</th>\n",
       "      <th>unixReviewTime</th>\n",
       "    </tr>\n",
       "  </thead>\n",
       "  <tbody>\n",
       "    <tr>\n",
       "      <th>0</th>\n",
       "      <td>B00002243X</td>\n",
       "      <td>[4, 4]</td>\n",
       "      <td>5</td>\n",
       "      <td>I needed a set of jumper cables for my new car and these had good reviews and were at a good price.  They have been used a few times already and do what they are supposed to - no complaints there....</td>\n",
       "      <td>08 17, 2011</td>\n",
       "      <td>A3F73SC1LY51OO</td>\n",
       "      <td>Alan Montgomery</td>\n",
       "      <td>Work Well - Should Have Bought Longer Ones</td>\n",
       "      <td>1313539200</td>\n",
       "    </tr>\n",
       "    <tr>\n",
       "      <th>1</th>\n",
       "      <td>B00002243X</td>\n",
       "      <td>[1, 1]</td>\n",
       "      <td>4</td>\n",
       "      <td>These long cables work fine for my truck, but the quality seems a little on the shabby side. For the money I was not expecting 200 dollar snap-on jumper cables but these seem more like what you wo...</td>\n",
       "      <td>09 4, 2011</td>\n",
       "      <td>A20S66SKYXULG2</td>\n",
       "      <td>alphonse</td>\n",
       "      <td>Okay long cables</td>\n",
       "      <td>1315094400</td>\n",
       "    </tr>\n",
       "    <tr>\n",
       "      <th>2</th>\n",
       "      <td>B00002243X</td>\n",
       "      <td>[0, 0]</td>\n",
       "      <td>5</td>\n",
       "      <td>Can't comment much on these since they have not yet been used (I will come back and update my review is I find any issues after first use) ... but they are built solid, nice tough big hard clamps ...</td>\n",
       "      <td>07 25, 2013</td>\n",
       "      <td>A2I8LFSN2IS5EO</td>\n",
       "      <td>Chris</td>\n",
       "      <td>Looks and feels heavy Duty</td>\n",
       "      <td>1374710400</td>\n",
       "    </tr>\n",
       "    <tr>\n",
       "      <th>3</th>\n",
       "      <td>B00002243X</td>\n",
       "      <td>[19, 19]</td>\n",
       "      <td>5</td>\n",
       "      <td>I absolutley love Amazon!!!  For the price of a set of cheap Booster/Jumper Cables in a brick and morter store, you can buy extra long and heavy duty jumpers!  First off, don't be the person that ...</td>\n",
       "      <td>12 21, 2010</td>\n",
       "      <td>A3GT2EWQSO45ZG</td>\n",
       "      <td>DeusEx</td>\n",
       "      <td>Excellent choice for Jumper Cables!!!</td>\n",
       "      <td>1292889600</td>\n",
       "    </tr>\n",
       "    <tr>\n",
       "      <th>4</th>\n",
       "      <td>B00002243X</td>\n",
       "      <td>[0, 0]</td>\n",
       "      <td>5</td>\n",
       "      <td>I purchased the 12' feet long cable set and they arrived in a retail cardboard box with handle, which could be used as a storage and carrying case for these cables, although I will not need to sto...</td>\n",
       "      <td>07 4, 2012</td>\n",
       "      <td>A3ESWJPAVRPWB4</td>\n",
       "      <td>E. Hernandez</td>\n",
       "      <td>Excellent, High Quality Starter Cables</td>\n",
       "      <td>1341360000</td>\n",
       "    </tr>\n",
       "  </tbody>\n",
       "</table>\n",
       "</div>"
      ],
      "text/plain": [
       "         asin   helpful  overall  \\\n",
       "0  B00002243X    [4, 4]        5   \n",
       "1  B00002243X    [1, 1]        4   \n",
       "2  B00002243X    [0, 0]        5   \n",
       "3  B00002243X  [19, 19]        5   \n",
       "4  B00002243X    [0, 0]        5   \n",
       "\n",
       "                                                                                                                                                                                                reviewText  \\\n",
       "0  I needed a set of jumper cables for my new car and these had good reviews and were at a good price.  They have been used a few times already and do what they are supposed to - no complaints there....   \n",
       "1  These long cables work fine for my truck, but the quality seems a little on the shabby side. For the money I was not expecting 200 dollar snap-on jumper cables but these seem more like what you wo...   \n",
       "2  Can't comment much on these since they have not yet been used (I will come back and update my review is I find any issues after first use) ... but they are built solid, nice tough big hard clamps ...   \n",
       "3  I absolutley love Amazon!!!  For the price of a set of cheap Booster/Jumper Cables in a brick and morter store, you can buy extra long and heavy duty jumpers!  First off, don't be the person that ...   \n",
       "4  I purchased the 12' feet long cable set and they arrived in a retail cardboard box with handle, which could be used as a storage and carrying case for these cables, although I will not need to sto...   \n",
       "\n",
       "    reviewTime      reviewerID     reviewerName  \\\n",
       "0  08 17, 2011  A3F73SC1LY51OO  Alan Montgomery   \n",
       "1   09 4, 2011  A20S66SKYXULG2         alphonse   \n",
       "2  07 25, 2013  A2I8LFSN2IS5EO            Chris   \n",
       "3  12 21, 2010  A3GT2EWQSO45ZG           DeusEx   \n",
       "4   07 4, 2012  A3ESWJPAVRPWB4     E. Hernandez   \n",
       "\n",
       "                                      summary  unixReviewTime  \n",
       "0  Work Well - Should Have Bought Longer Ones      1313539200  \n",
       "1                            Okay long cables      1315094400  \n",
       "2                  Looks and feels heavy Duty      1374710400  \n",
       "3       Excellent choice for Jumper Cables!!!      1292889600  \n",
       "4      Excellent, High Quality Starter Cables      1341360000  "
      ]
     },
     "execution_count": 3,
     "metadata": {},
     "output_type": "execute_result"
    }
   ],
   "source": [
    "df = pd.read_json('Automotive_5.json', lines=True)\n",
    "df.head()"
   ]
  },
  {
   "cell_type": "markdown",
   "metadata": {},
   "source": [
    "As you can see, the data contains the following columns:\n",
    "\n",
    "reviewerID – ID of the reviewer\n",
    "\n",
    "asin – ID of the product\n",
    "\n",
    "reviewerName – name of the reviewer\n",
    "\n",
    "helpful – helpfulness rating of the review, e.g. 2/3\n",
    "\n",
    "reviewText – text of the review\n",
    "\n",
    "overall – rating of the product\n",
    "\n",
    "summary – summary of the review\n",
    "\n",
    "unixReviewTime – time of the review (unix time)\n",
    "\n",
    "reviewTime – time of the review (raw)\n",
    "\n",
    "For the scope of our analysis and this article, we will be using only the reviews column, i.e., reviewText."
   ]
  },
  {
   "cell_type": "markdown",
   "metadata": {},
   "source": [
    "#### Data Preprocessing\n",
    "In this step, we will remove the punctuations, stopwords and normalize the reviews as much as possible. After every preprocessing step, it is a good practice to check the most frequent words in the data. Therefore, let’s define a function that would plot a bar graph of n most frequent words in the data."
   ]
  },
  {
   "cell_type": "code",
   "execution_count": 4,
   "metadata": {},
   "outputs": [],
   "source": [
    "# function to plot most frequent terms\n",
    "def freq_words(x, terms = 30):\n",
    "  all_words = ' '.join([text for text in x])\n",
    "  all_words = all_words.split()\n",
    "\n",
    "  fdist = FreqDist(all_words)\n",
    "  words_df = pd.DataFrame({'word':list(fdist.keys()), 'count':list(fdist.values())})\n",
    "\n",
    "  # selecting top 20 most frequent words\n",
    "  d = words_df.nlargest(columns=\"count\", n = terms) \n",
    "  plt.figure(figsize=(20,5))\n",
    "  ax = sns.barplot(data=d, x= \"word\", y = \"count\")\n",
    "  ax.set(ylabel = 'Count')\n",
    "  plt.show()"
   ]
  },
  {
   "cell_type": "code",
   "execution_count": 5,
   "metadata": {},
   "outputs": [
    {
     "data": {
      "image/png": "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\n",
      "text/plain": [
       "<Figure size 1440x360 with 1 Axes>"
      ]
     },
     "metadata": {},
     "output_type": "display_data"
    }
   ],
   "source": [
    "freq_words(df['reviewText'])"
   ]
  },
  {
   "cell_type": "markdown",
   "metadata": {},
   "source": [
    "Most common words are ‘the’, ‘and’, ‘to’, so on and so forth. These words are not so important for our task and they do not tell any story. We’ have to get rid of these kinds of words. Before that let’s remove the punctuations and numbers from our text data."
   ]
  },
  {
   "cell_type": "code",
   "execution_count": 6,
   "metadata": {},
   "outputs": [],
   "source": [
    "# remove unwanted characters, numbers and symbols\n",
    "df['reviewText'] = df['reviewText'].str.replace(\"[^a-zA-Z#]\", \" \")"
   ]
  },
  {
   "cell_type": "markdown",
   "metadata": {},
   "source": [
    "Let’s try to remove the stopwords and short words (<2 letters) from the reviews."
   ]
  },
  {
   "cell_type": "code",
   "execution_count": 7,
   "metadata": {},
   "outputs": [],
   "source": [
    "from nltk.corpus import stopwords\n",
    "stop_words = stopwords.words('english')"
   ]
  },
  {
   "cell_type": "code",
   "execution_count": 8,
   "metadata": {},
   "outputs": [],
   "source": [
    "# function to remove stopwords\n",
    "def remove_stopwords(rev):\n",
    "    rev_new = \" \".join([i for i in rev if i not in stop_words])\n",
    "    return rev_new\n",
    "\n",
    "# remove short words (length < 3)\n",
    "df['reviewText'] = df['reviewText'].apply(lambda x: ' '.join([w for w in x.split() if len(w)>2]))\n",
    "\n",
    "# remove stopwords from the text\n",
    "reviews = [remove_stopwords(r.split()) for r in df['reviewText']]\n",
    "\n",
    "# make entire text lowercase\n",
    "reviews = [r.lower() for r in reviews]"
   ]
  },
  {
   "cell_type": "markdown",
   "metadata": {},
   "source": [
    "Let’s again plot the most frequent words and see if the more significant words have come out."
   ]
  },
  {
   "cell_type": "code",
   "execution_count": 9,
   "metadata": {},
   "outputs": [
    {
     "data": {
      "image/png": "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\n",
      "text/plain": [
       "<Figure size 1440x360 with 1 Axes>"
      ]
     },
     "metadata": {},
     "output_type": "display_data"
    }
   ],
   "source": [
    "freq_words(reviews, 35)"
   ]
  },
  {
   "cell_type": "markdown",
   "metadata": {},
   "source": [
    "We can see some improvement here. Terms like ‘battery’, ‘price’, ‘product’, ‘oil’ have come up which are quite relevant for the Automotive category. However, we still have neutral terms like ‘the’, ‘this’, ‘much’, ‘they’ which are not that relevant.\n",
    "\n",
    "To further remove noise from the text we can use lemmatization from the spaCy library. It reduces any given word to its base form thereby reducing multiple forms of a word to a single word."
   ]
  },
  {
   "cell_type": "code",
   "execution_count": 17,
   "metadata": {},
   "outputs": [],
   "source": [
    "nlp = spacy.load('en_core_web_sm')\n",
    "\n",
    "\n",
    "def lemmatization(texts, tags=['NOUN', 'ADJ']): # filter noun and adjective\n",
    "       output = []\n",
    "       for sent in texts:\n",
    "             doc = nlp(\" \".join(sent)) \n",
    "             output.append([token.lemma_ for token in doc if token.pos_ in tags])\n",
    "       return output"
   ]
  },
  {
   "cell_type": "markdown",
   "metadata": {},
   "source": [
    "Let’s tokenize the reviews and then lemmatize the tokenized reviews."
   ]
  },
  {
   "cell_type": "code",
   "execution_count": 18,
   "metadata": {},
   "outputs": [
    {
     "name": "stdout",
     "output_type": "stream",
     "text": [
      "['these', 'long', 'cables', 'work', 'fine', 'truck', 'quality', 'seems', 'little', 'shabby', 'side', 'for', 'money', 'expecting', 'dollar', 'snap', 'jumper', 'cables', 'seem', 'like', 'would', 'see', 'chinese', 'knock', 'shop', 'like', 'harbor', 'freight', 'bucks']\n"
     ]
    }
   ],
   "source": [
    "tokenized_reviews = pd.Series(reviews).apply(lambda x: x.split())\n",
    "print(tokenized_reviews[1])"
   ]
  },
  {
   "cell_type": "code",
   "execution_count": 19,
   "metadata": {},
   "outputs": [
    {
     "name": "stdout",
     "output_type": "stream",
     "text": [
      "['long', 'cable', 'fine', 'truck', 'quality', 'little', 'shabby', 'side', 'money', 'dollar', 'snap', 'jumper', 'cable', 'chinese', 'shop', 'harbor', 'freight', 'buck']\n"
     ]
    }
   ],
   "source": [
    "reviews_2 = lemmatization(tokenized_reviews)\n",
    "print(reviews_2[1]) # print lemmatized review"
   ]
  },
  {
   "cell_type": "code",
   "execution_count": 22,
   "metadata": {},
   "outputs": [
    {
     "data": {
      "text/plain": [
       "{'bucks',\n",
       " 'cables',\n",
       " 'expecting',\n",
       " 'for',\n",
       " 'knock',\n",
       " 'like',\n",
       " 'see',\n",
       " 'seem',\n",
       " 'seems',\n",
       " 'these',\n",
       " 'work',\n",
       " 'would'}"
      ]
     },
     "execution_count": 22,
     "metadata": {},
     "output_type": "execute_result"
    }
   ],
   "source": [
    "set(tokenized_reviews[1]) - set(reviews_2[1])"
   ]
  },
  {
   "cell_type": "markdown",
   "metadata": {},
   "source": [
    "As you can see, we have not just lemmatized the words but also filtered only nouns and adjectives. Let’s de-tokenize the lemmatized reviews and plot the most common words."
   ]
  },
  {
   "cell_type": "code",
   "execution_count": 23,
   "metadata": {},
   "outputs": [
    {
     "data": {
      "image/png": "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\n",
      "text/plain": [
       "<Figure size 1440x360 with 1 Axes>"
      ]
     },
     "metadata": {},
     "output_type": "display_data"
    }
   ],
   "source": [
    "reviews_3 = []\n",
    "for i in range(len(reviews_2)):\n",
    "    reviews_3.append(' '.join(reviews_2[i]))\n",
    "\n",
    "df['reviews'] = reviews_3\n",
    "\n",
    "freq_words(df['reviews'], 35)"
   ]
  },
  {
   "cell_type": "code",
   "execution_count": 24,
   "metadata": {},
   "outputs": [],
   "source": [
    "# Create the term dictionary of our corpus, where every unique term is assigned an index\n",
    "dictionary = corpora.Dictionary(reviews_2)"
   ]
  },
  {
   "cell_type": "code",
   "execution_count": 25,
   "metadata": {},
   "outputs": [],
   "source": [
    "# Convert list of reviews (reviews_2) into a Document Term Matrix using the dictionary prepared above.\n",
    "doc_term_matrix = [dictionary.doc2bow(rev) for rev in reviews_2]"
   ]
  },
  {
   "cell_type": "code",
   "execution_count": 26,
   "metadata": {},
   "outputs": [],
   "source": [
    "# Creating the object for LDA model using gensim library\n",
    "LDA = gensim.models.ldamodel.LdaModel"
   ]
  },
  {
   "cell_type": "code",
   "execution_count": 27,
   "metadata": {},
   "outputs": [],
   "source": [
    "# Build LDA model\n",
    "lda_model = LDA(corpus=doc_term_matrix,\n",
    "                id2word=dictionary,\n",
    "                num_topics=7, \n",
    "                random_state=100,\n",
    "                chunksize=1000,\n",
    "                passes=50)"
   ]
  },
  {
   "cell_type": "code",
   "execution_count": 28,
   "metadata": {},
   "outputs": [
    {
     "data": {
      "text/plain": [
       "[(0,\n",
       "  '0.033*\"battery\" + 0.023*\"car\" + 0.015*\"power\" + 0.013*\"unit\" + 0.011*\"hose\" + 0.011*\"plug\" + 0.010*\"time\" + 0.010*\"use\" + 0.008*\"vehicle\" + 0.008*\"charge\"'),\n",
       " (1,\n",
       "  '0.038*\"car\" + 0.027*\"towel\" + 0.023*\"water\" + 0.021*\"clean\" + 0.016*\"leather\" + 0.015*\"good\" + 0.014*\"product\" + 0.013*\"use\" + 0.012*\"great\" + 0.011*\"wash\"'),\n",
       " (2,\n",
       "  '0.030*\"oil\" + 0.029*\"good\" + 0.027*\"price\" + 0.024*\"device\" + 0.022*\"filter\" + 0.019*\"product\" + 0.018*\"great\" + 0.018*\"charger\" + 0.016*\"quality\" + 0.014*\"amazon\"'),\n",
       " (3,\n",
       "  '0.120*\"light\" + 0.042*\"bulb\" + 0.029*\"bright\" + 0.020*\"phone\" + 0.015*\"white\" + 0.014*\"bag\" + 0.011*\"color\" + 0.010*\"wire\" + 0.009*\"night\" + 0.009*\"socket\"'),\n",
       " (4,\n",
       "  '0.019*\"tire\" + 0.016*\"easy\" + 0.013*\"good\" + 0.012*\"great\" + 0.010*\"fit\" + 0.010*\"work\" + 0.009*\"plastic\" + 0.009*\"use\" + 0.008*\"little\" + 0.008*\"nice\"'),\n",
       " (5,\n",
       "  '0.030*\"wiper\" + 0.030*\"blade\" + 0.014*\"windshield\" + 0.013*\"car\" + 0.010*\"rain\" + 0.010*\"year\" + 0.009*\"time\" + 0.009*\"side\" + 0.008*\"old\" + 0.008*\"good\"'),\n",
       " (6,\n",
       "  '0.051*\"product\" + 0.035*\"car\" + 0.033*\"wax\" + 0.020*\"paint\" + 0.017*\"good\" + 0.015*\"kit\" + 0.014*\"pad\" + 0.013*\"time\" + 0.012*\"black\" + 0.012*\"great\"')]"
      ]
     },
     "execution_count": 28,
     "metadata": {},
     "output_type": "execute_result"
    }
   ],
   "source": [
    "lda_model.print_topics()"
   ]
  },
  {
   "cell_type": "code",
   "execution_count": 29,
   "metadata": {},
   "outputs": [
    {
     "name": "stderr",
     "output_type": "stream",
     "text": [
      "C:\\Users\\hp\\Anaconda3\\lib\\site-packages\\pyLDAvis\\_prepare.py:257: FutureWarning: Sorting because non-concatenation axis is not aligned. A future version\n",
      "of pandas will change to not sort by default.\n",
      "\n",
      "To accept the future behavior, pass 'sort=True'.\n",
      "\n",
      "To retain the current behavior and silence the warning, pass sort=False\n",
      "\n",
      "  return pd.concat([default_term_info] + list(topic_dfs))\n"
     ]
    },
    {
     "data": {
      "text/html": [
       "\n",
       "<link rel=\"stylesheet\" type=\"text/css\" href=\"https://cdn.rawgit.com/bmabey/pyLDAvis/files/ldavis.v1.0.0.css\">\n",
       "\n",
       "\n",
       "<div id=\"ldavis_el278322004972012432639402337\"></div>\n",
       "<script type=\"text/javascript\">\n",
       "\n",
       "var ldavis_el278322004972012432639402337_data = {\"mdsDat\": {\"x\": [-0.028254886447112354, -0.03271862867976264, -0.11777632319710184, -0.03285000623765433, -0.050109992837288904, -0.11815570306756043, 0.37986554046648047], \"y\": [-0.057849926650376256, -0.2761261426229236, 0.09111974538576456, -0.0440611853884615, 0.0736951745326596, 0.15800054164525296, 0.05522179309808403], \"topics\": [1, 2, 3, 4, 5, 6, 7], \"cluster\": [1, 1, 1, 1, 1, 1, 1], \"Freq\": [22.287567138671875, 18.11899757385254, 16.712717056274414, 12.155455589294434, 12.10361385345459, 11.71263313293457, 6.909019470214844]}, \"tinfo\": {\"Category\": [\"Default\", \"Default\", \"Default\", \"Default\", \"Default\", \"Default\", \"Default\", \"Default\", \"Default\", \"Default\", \"Default\", \"Default\", \"Default\", \"Default\", \"Default\", \"Default\", \"Default\", \"Default\", \"Default\", \"Default\", \"Default\", \"Default\", \"Default\", \"Default\", \"Default\", \"Default\", \"Default\", \"Default\", \"Default\", \"Default\", \"Topic1\", \"Topic1\", \"Topic1\", \"Topic1\", \"Topic1\", \"Topic1\", \"Topic1\", \"Topic1\", \"Topic1\", \"Topic1\", \"Topic1\", \"Topic1\", \"Topic1\", \"Topic1\", \"Topic1\", \"Topic1\", \"Topic1\", \"Topic1\", \"Topic1\", \"Topic1\", \"Topic1\", \"Topic1\", \"Topic1\", \"Topic1\", \"Topic1\", \"Topic1\", \"Topic1\", \"Topic1\", \"Topic1\", \"Topic1\", \"Topic1\", \"Topic1\", \"Topic1\", \"Topic1\", \"Topic1\", \"Topic1\", \"Topic1\", \"Topic1\", \"Topic1\", \"Topic1\", \"Topic1\", \"Topic1\", \"Topic1\", \"Topic1\", \"Topic1\", \"Topic1\", \"Topic1\", \"Topic1\", \"Topic1\", \"Topic1\", \"Topic1\", \"Topic1\", \"Topic1\", \"Topic1\", \"Topic1\", \"Topic1\", \"Topic1\", \"Topic1\", \"Topic1\", \"Topic1\", \"Topic1\", \"Topic2\", \"Topic2\", \"Topic2\", \"Topic2\", \"Topic2\", \"Topic2\", \"Topic2\", \"Topic2\", \"Topic2\", \"Topic2\", \"Topic2\", \"Topic2\", \"Topic2\", \"Topic2\", \"Topic2\", \"Topic2\", \"Topic2\", \"Topic2\", \"Topic2\", \"Topic2\", \"Topic2\", \"Topic2\", \"Topic2\", \"Topic2\", \"Topic2\", \"Topic2\", \"Topic2\", \"Topic2\", \"Topic2\", \"Topic2\", \"Topic2\", \"Topic2\", \"Topic2\", \"Topic2\", \"Topic2\", \"Topic2\", \"Topic2\", \"Topic2\", \"Topic2\", \"Topic2\", \"Topic2\", \"Topic2\", \"Topic2\", \"Topic2\", \"Topic2\", \"Topic2\", \"Topic2\", \"Topic2\", \"Topic2\", \"Topic2\", \"Topic3\", \"Topic3\", \"Topic3\", \"Topic3\", \"Topic3\", \"Topic3\", \"Topic3\", \"Topic3\", \"Topic3\", \"Topic3\", \"Topic3\", \"Topic3\", \"Topic3\", \"Topic3\", \"Topic3\", \"Topic3\", \"Topic3\", \"Topic3\", \"Topic3\", \"Topic3\", \"Topic3\", \"Topic3\", \"Topic3\", \"Topic3\", \"Topic3\", \"Topic3\", \"Topic3\", \"Topic3\", \"Topic3\", \"Topic3\", \"Topic3\", \"Topic3\", \"Topic3\", \"Topic3\", \"Topic3\", \"Topic3\", \"Topic3\", \"Topic3\", \"Topic3\", \"Topic3\", \"Topic3\", \"Topic3\", \"Topic3\", \"Topic3\", \"Topic3\", \"Topic3\", \"Topic3\", \"Topic3\", \"Topic3\", \"Topic3\", \"Topic3\", \"Topic3\", \"Topic3\", \"Topic3\", \"Topic3\", \"Topic3\", \"Topic3\", \"Topic3\", \"Topic3\", \"Topic4\", \"Topic4\", \"Topic4\", \"Topic4\", \"Topic4\", \"Topic4\", \"Topic4\", \"Topic4\", \"Topic4\", \"Topic4\", \"Topic4\", \"Topic4\", \"Topic4\", \"Topic4\", \"Topic4\", \"Topic4\", \"Topic4\", \"Topic4\", \"Topic4\", \"Topic4\", \"Topic4\", \"Topic4\", \"Topic4\", \"Topic4\", \"Topic4\", \"Topic4\", \"Topic4\", \"Topic4\", \"Topic4\", \"Topic4\", \"Topic4\", \"Topic4\", \"Topic4\", \"Topic4\", \"Topic4\", \"Topic4\", \"Topic4\", \"Topic4\", \"Topic4\", \"Topic4\", \"Topic4\", \"Topic4\", \"Topic4\", \"Topic4\", \"Topic4\", \"Topic4\", \"Topic4\", \"Topic4\", \"Topic4\", \"Topic4\", \"Topic4\", \"Topic4\", \"Topic4\", \"Topic4\", \"Topic4\", \"Topic5\", \"Topic5\", \"Topic5\", \"Topic5\", \"Topic5\", \"Topic5\", \"Topic5\", \"Topic5\", \"Topic5\", \"Topic5\", \"Topic5\", \"Topic5\", \"Topic5\", \"Topic5\", \"Topic5\", \"Topic5\", \"Topic5\", \"Topic5\", \"Topic5\", \"Topic5\", \"Topic5\", \"Topic5\", \"Topic5\", \"Topic5\", \"Topic5\", \"Topic5\", \"Topic5\", \"Topic5\", \"Topic5\", \"Topic5\", \"Topic5\", \"Topic5\", \"Topic5\", \"Topic5\", \"Topic5\", \"Topic5\", \"Topic5\", \"Topic5\", \"Topic5\", \"Topic5\", \"Topic5\", \"Topic5\", \"Topic5\", \"Topic5\", \"Topic5\", \"Topic5\", \"Topic5\", \"Topic5\", \"Topic5\", \"Topic5\", \"Topic5\", \"Topic5\", \"Topic5\", \"Topic5\", \"Topic5\", \"Topic5\", \"Topic5\", \"Topic5\", \"Topic5\", \"Topic5\", \"Topic5\", \"Topic5\", \"Topic5\", \"Topic5\", \"Topic5\", \"Topic6\", \"Topic6\", \"Topic6\", \"Topic6\", \"Topic6\", \"Topic6\", \"Topic6\", \"Topic6\", \"Topic6\", \"Topic6\", \"Topic6\", \"Topic6\", \"Topic6\", \"Topic6\", \"Topic6\", \"Topic6\", \"Topic6\", \"Topic6\", \"Topic6\", \"Topic6\", \"Topic6\", \"Topic6\", \"Topic6\", \"Topic6\", \"Topic6\", \"Topic6\", \"Topic6\", \"Topic6\", \"Topic6\", \"Topic6\", \"Topic6\", \"Topic6\", \"Topic6\", \"Topic6\", \"Topic6\", \"Topic6\", \"Topic6\", \"Topic6\", \"Topic6\", \"Topic6\", \"Topic6\", \"Topic6\", \"Topic6\", \"Topic6\", \"Topic6\", \"Topic6\", \"Topic6\", \"Topic6\", \"Topic6\", \"Topic6\", \"Topic6\", \"Topic6\", \"Topic6\", \"Topic6\", \"Topic6\", \"Topic6\", \"Topic6\", \"Topic6\", \"Topic7\", \"Topic7\", \"Topic7\", \"Topic7\", \"Topic7\", \"Topic7\", \"Topic7\", \"Topic7\", \"Topic7\", \"Topic7\", \"Topic7\", \"Topic7\", \"Topic7\", \"Topic7\", \"Topic7\", \"Topic7\", \"Topic7\", \"Topic7\", \"Topic7\", \"Topic7\", \"Topic7\", \"Topic7\", \"Topic7\", \"Topic7\", \"Topic7\", \"Topic7\", \"Topic7\", \"Topic7\", \"Topic7\", \"Topic7\", \"Topic7\", \"Topic7\", \"Topic7\", \"Topic7\", \"Topic7\", \"Topic7\", \"Topic7\", \"Topic7\", \"Topic7\", \"Topic7\", \"Topic7\", \"Topic7\", \"Topic7\", \"Topic7\", \"Topic7\", \"Topic7\", \"Topic7\", \"Topic7\", \"Topic7\", \"Topic7\", \"Topic7\"], \"Freq\": [4542.0, 3276.0, 6756.0, 2141.0, 2518.0, 9457.0, 2028.0, 2020.0, 1579.0, 1960.0, 2318.0, 2463.0, 1592.0, 1446.0, 2499.0, 1115.0, 2329.0, 1299.0, 1472.0, 1187.0, 1652.0, 1251.0, 6750.0, 747.0, 910.0, 2164.0, 1305.0, 952.0, 1076.0, 1464.0, 2318.237548828125, 883.9293212890625, 816.4884033203125, 674.5400390625, 552.4894409179688, 536.2382202148438, 470.67083740234375, 463.8017272949219, 446.02105712890625, 431.7360534667969, 419.5823059082031, 403.4237976074219, 394.9881591796875, 365.60003662109375, 363.53265380859375, 361.9188232421875, 315.1932067871094, 302.7955017089844, 286.6763000488281, 253.13111877441406, 251.96710205078125, 240.78099060058594, 238.50469970703125, 223.58169555664062, 227.4390869140625, 209.73867797851562, 200.52532958984375, 186.36883544921875, 164.47640991210938, 149.1077117919922, 436.62457275390625, 569.524658203125, 639.6615600585938, 677.5531005859375, 340.2040100097656, 824.431640625, 372.42816162109375, 695.29833984375, 1268.6204833984375, 1149.76318359375, 635.9417114257812, 704.4732055664062, 1924.776123046875, 717.6465454101562, 754.7628784179688, 730.811279296875, 1028.934326171875, 972.8923950195312, 1029.478515625, 1496.8245849609375, 1234.1207275390625, 1536.8375244140625, 762.9346313476562, 888.3585815429688, 1143.6951904296875, 604.3447265625, 640.1381225585938, 935.7750854492188, 736.387939453125, 638.4675903320312, 648.3412475585938, 3276.009033203125, 1250.6920166015625, 1075.6966552734375, 768.9414672851562, 741.0197143554688, 712.1322631835938, 655.3421020507812, 642.0108032226562, 501.84033203125, 432.3373107910156, 431.68267822265625, 423.6598815917969, 396.7996520996094, 387.6174011230469, 365.9406433105469, 357.6808776855469, 332.20458984375, 326.8985595703125, 327.2506103515625, 294.1839599609375, 282.54669189453125, 278.59136962890625, 274.9335632324219, 268.42572021484375, 255.8753662109375, 248.0541229248047, 242.60877990722656, 237.79830932617188, 236.9310760498047, 233.96873474121094, 518.9840087890625, 1474.770263671875, 405.52001953125, 1130.976806640625, 523.8897705078125, 588.7299194335938, 593.9580078125, 703.3072509765625, 329.9314880371094, 2248.216064453125, 406.1921081542969, 788.4007568359375, 989.9984130859375, 1004.6636352539062, 524.1727294921875, 537.4647827148438, 406.3586120605469, 503.2674865722656, 529.6325073242188, 407.9370422363281, 2518.053955078125, 1471.9879150390625, 985.9619750976562, 616.1433715820312, 568.6215209960938, 500.4746398925781, 481.3274230957031, 470.0299377441406, 462.2093200683594, 280.0782470703125, 275.039794921875, 274.2669372558594, 259.6609802246094, 245.84231567382812, 242.1687774658203, 216.3131103515625, 207.08314514160156, 201.31752014160156, 201.72293090820312, 197.98707580566406, 190.3588409423828, 185.038818359375, 182.6748809814453, 181.8049774169922, 176.01898193359375, 175.373046875, 174.37808227539062, 162.5819091796875, 152.4363250732422, 147.07801818847656, 756.1061401367188, 511.0050048828125, 2137.408447265625, 902.1644897460938, 1935.5853271484375, 1020.9234619140625, 606.2349243164062, 308.9818420410156, 276.4422302246094, 3474.99072265625, 323.8454284667969, 610.171142578125, 235.4928436279297, 795.512451171875, 574.0603637695312, 1150.3583984375, 1420.313232421875, 440.6146240234375, 1265.064453125, 1095.4097900390625, 596.3499145507812, 797.5509033203125, 474.8103942871094, 469.3457946777344, 543.7947998046875, 538.8689575195312, 528.8905029296875, 485.99334716796875, 473.3014221191406, 2027.7364501953125, 2019.3857421875, 909.6629028320312, 697.1522827148438, 536.1849365234375, 533.2554931640625, 519.3115844726562, 376.85992431640625, 337.7108459472656, 314.1864929199219, 232.75486755371094, 232.40379333496094, 199.08465576171875, 165.65164184570312, 159.0274200439453, 155.53515625, 154.64495849609375, 134.8304901123047, 129.3966064453125, 126.16950988769531, 125.69384765625, 119.72364807128906, 114.62287902832031, 110.62983703613281, 105.03912353515625, 101.55219268798828, 99.5046157836914, 95.0677490234375, 91.83600616455078, 90.43364715576172, 371.8042297363281, 189.43353271484375, 296.4361877441406, 368.33782958984375, 345.7435302734375, 410.1253356933594, 464.7406311035156, 577.8976440429688, 238.62496948242188, 226.404541015625, 686.2933959960938, 543.4623413085938, 478.8241271972656, 470.2191162109375, 388.5643615722656, 455.41754150390625, 509.9422607421875, 884.1541137695312, 627.1603393554688, 298.0542907714844, 494.3719482421875, 539.9639892578125, 384.3824768066406, 410.411376953125, 319.9844970703125, 1960.0286865234375, 1591.5189208984375, 1445.3780517578125, 1187.080322265625, 550.71875, 299.8300476074219, 293.0898132324219, 194.8402557373047, 192.7797088623047, 153.16079711914062, 149.59547424316406, 149.99459838867188, 147.137939453125, 130.50840759277344, 127.78547668457031, 124.75287628173828, 123.12950897216797, 119.52513122558594, 97.01903533935547, 96.55868530273438, 87.05233001708984, 79.26036071777344, 78.33055114746094, 76.61505126953125, 75.50764465332031, 73.2892074584961, 73.84346771240234, 72.53947448730469, 72.65277862548828, 68.64872741699219, 352.51312255859375, 786.4000244140625, 262.8529968261719, 249.469482421875, 131.42593383789062, 1797.3350830078125, 949.904296875, 257.2249450683594, 316.82275390625, 521.083251953125, 1071.29345703125, 365.8770446777344, 591.5845947265625, 1893.38818359375, 205.16477966308594, 223.65673828125, 405.5343933105469, 576.1340942382812, 1212.8314208984375, 1266.6414794921875, 327.2179870605469, 424.2441101074219, 621.9197998046875, 643.171630859375, 461.0184326171875, 411.1153869628906, 386.78826904296875, 339.8971862792969, 524.139892578125, 583.3443603515625, 491.7797546386719, 413.7796936035156, 409.1904296875, 345.0484924316406, 370.7901611328125, 2140.6005859375, 1298.6473388671875, 637.2285766601562, 636.2422485351562, 631.9000244140625, 624.8344116210938, 520.5829467773438, 332.8074035644531, 313.02203369140625, 296.0021057128906, 250.71226501464844, 248.35882568359375, 211.2493896484375, 180.248779296875, 179.6874237060547, 177.0640411376953, 176.34031677246094, 139.66549682617188, 136.7937774658203, 132.26231384277344, 128.66160583496094, 127.54517364501953, 124.85387420654297, 115.13941192626953, 108.09354400634766, 102.97438049316406, 98.93553161621094, 97.8686294555664, 96.13607025146484, 95.408935546875, 105.04981231689453, 874.1058349609375, 684.3878784179688, 680.7644653320312, 220.37139892578125, 944.6356811523438, 790.580078125, 3263.86181640625, 603.025634765625, 639.9959106445312, 267.9538879394531, 332.9055480957031, 269.2549133300781, 433.61480712890625, 2266.98486328125, 533.2096557617188, 491.3789367675781, 463.2048034667969, 1105.3797607421875, 583.7319946289062, 806.2750854492188, 790.1426391601562, 693.9613037109375, 630.951416015625, 505.78961181640625, 421.28662109375, 345.62933349609375, 339.8619689941406, 4541.6845703125, 1578.401611328125, 1114.93701171875, 746.4190673828125, 539.113037109375, 253.06626892089844, 235.5579833984375, 230.96461486816406, 223.4944610595703, 198.8642578125, 174.5931854248047, 169.73385620117188, 147.0224151611328, 143.6360321044922, 139.526611328125, 135.9222869873047, 133.48953247070312, 128.64138793945312, 120.45209503173828, 119.70030975341797, 117.7837142944336, 114.78144073486328, 114.86138153076172, 106.77581787109375, 103.10474395751953, 96.73015594482422, 88.91954803466797, 79.3162841796875, 78.58753204345703, 78.56172180175781, 345.1762390136719, 333.35595703125, 573.1489868164062, 295.7478332519531, 185.5216522216797, 386.8072509765625, 219.95718383789062, 433.2621154785156, 175.4906463623047, 187.43905639648438, 207.37371826171875, 179.03488159179688, 183.01646423339844, 214.85321044921875, 237.2149200439453, 183.06060791015625, 225.38186645507812, 211.64349365234375, 228.57968139648438, 209.8831329345703, 212.46446228027344], \"Term\": [\"light\", \"battery\", \"product\", \"wax\", \"towel\", \"car\", \"wiper\", \"blade\", \"bulb\", \"oil\", \"tire\", \"water\", \"device\", \"filter\", \"price\", \"bright\", \"clean\", \"paint\", \"leather\", \"charger\", \"power\", \"unit\", \"good\", \"phone\", \"windshield\", \"quality\", \"amazon\", \"pad\", \"plug\", \"kit\", \"tire\", \"trailer\", \"tape\", \"jack\", \"hole\", \"bosch\", \"screw\", \"tight\", \"lock\", \"sturdy\", \"bumper\", \"bolt\", \"weight\", \"duty\", \"strap\", \"hitch\", \"plate\", \"camper\", \"tube\", \"adhesive\", \"secure\", \"travel\", \"steel\", \"psi\", \"link\", \"ball\", \"thread\", \"wrap\", \"receiver\", \"tie\", \"solid\", \"metal\", \"jeep\", \"cover\", \"head\", \"place\", \"handle\", \"front\", \"fit\", \"plastic\", \"door\", \"heavy\", \"easy\", \"pressure\", \"install\", \"tool\", \"nice\", \"small\", \"little\", \"great\", \"work\", \"good\", \"side\", \"thing\", \"use\", \"end\", \"large\", \"time\", \"quality\", \"way\", \"product\", \"battery\", \"unit\", \"plug\", \"charge\", \"code\", \"cable\", \"tank\", \"app\", \"port\", \"connection\", \"cord\", \"usb\", \"solar\", \"automatic\", \"information\", \"fuse\", \"datum\", \"cigarette\", \"manual\", \"sensor\", \"drain\", \"tender\", \"output\", \"laptop\", \"scanner\", \"amp\", \"zubie\", \"accurate\", \"sewer\", \"torque\", \"connector\", \"power\", \"check\", \"hose\", \"adapter\", \"system\", \"gauge\", \"engine\", \"fluid\", \"car\", \"feature\", \"vehicle\", \"use\", \"time\", \"problem\", \"thing\", \"trip\", \"small\", \"work\", \"tool\", \"towel\", \"leather\", \"microfiber\", \"dirt\", \"brush\", \"griot\", \"dust\", \"interior\", \"cleaning\", \"conditioner\", \"soap\", \"bucket\", \"carpet\", \"mitt\", \"scent\", \"vinyl\", \"chamois\", \"rinse\", \"odor\", \"lint\", \"kitchen\", \"sponge\", \"stain\", \"wind\", \"fiber\", \"micro\", \"absorbent\", \"polisher\", \"fabric\", \"husband\", \"cloth\", \"smell\", \"water\", \"dry\", \"clean\", \"wash\", \"soft\", \"washing\", \"dirty\", \"car\", \"board\", \"wheel\", \"cleaner\", \"job\", \"hand\", \"use\", \"good\", \"seat\", \"product\", \"great\", \"lot\", \"time\", \"surface\", \"large\", \"small\", \"nice\", \"thing\", \"little\", \"work\", \"wiper\", \"blade\", \"windshield\", \"rain\", \"mat\", \"snow\", \"inverter\", \"chemical\", \"ice\", \"arm\", \"trim\", \"iphone\", \"kid\", \"scraper\", \"icon\", \"ramp\", \"bluetooth\", \"helmet\", \"alert\", \"report\", \"buying\", \"fog\", \"privacy\", \"pink\", \"anco\", \"leg\", \"rim\", \"sunlight\", \"tailgate\", \"drip\", \"sun\", \"summer\", \"weather\", \"winter\", \"driver\", \"window\", \"month\", \"side\", \"oem\", \"cold\", \"year\", \"old\", \"day\", \"review\", \"clear\", \"last\", \"new\", \"car\", \"time\", \"glass\", \"work\", \"good\", \"well\", \"easy\", \"great\", \"oil\", \"device\", \"filter\", \"charger\", \"mile\", \"shipping\", \"cup\", \"compact\", \"remote\", \"signal\", \"cabin\", \"tablet\", \"purple\", \"acceleration\", \"camping\", \"lawn\", \"mobile\", \"generator\", \"info\", \"chain\", \"delivery\", \"convenience\", \"disposable\", \"tend\", \"confidence\", \"silverado\", \"basis\", \"mail\", \"audi\", \"tongue\", \"local\", \"change\", \"dealer\", \"wrench\", \"insert\", \"price\", \"amazon\", \"toyota\", \"service\", \"store\", \"quality\", \"auto\", \"cheap\", \"good\", \"mpg\", \"synthetic\", \"money\", \"part\", \"great\", \"product\", \"cost\", \"worth\", \"well\", \"year\", \"high\", \"air\", \"truck\", \"brand\", \"time\", \"car\", \"use\", \"vehicle\", \"new\", \"engine\", \"work\", \"wax\", \"paint\", \"meguiar\", \"clay\", \"polish\", \"shine\", \"coat\", \"detailer\", \"lens\", \"compressor\", \"sealant\", \"applicator\", \"compound\", \"paste\", \"swirl\", \"mother\", \"buff\", \"gloss\", \"buffer\", \"nova\", \"dull\", \"carnauba\", \"apply\", \"portion\", \"gel\", \"plush\", \"pleasant\", \"buffing\", \"haze\", \"prep\", \"score\", \"pad\", \"result\", \"finish\", \"shiny\", \"kit\", \"black\", \"product\", \"bottle\", \"spray\", \"liquid\", \"step\", \"scratch\", \"application\", \"car\", \"surface\", \"stuff\", \"clear\", \"good\", \"new\", \"time\", \"great\", \"use\", \"easy\", \"work\", \"year\", \"vehicle\", \"plastic\", \"light\", \"bulb\", \"bright\", \"phone\", \"bag\", \"beam\", \"outlet\", \"block\", \"volt\", \"led\", \"drill\", \"wiring\", \"harness\", \"lamp\", \"visor\", \"lighting\", \"vision\", \"incandescent\", \"map\", \"hid\", \"console\", \"scan\", \"crash\", \"brightness\", \"controller\", \"halogen\", \"horn\", \"draw\", \"fixture\", \"monitor\", \"night\", \"socket\", \"white\", \"stock\", \"location\", \"wire\", \"switch\", \"color\", \"emergency\", \"yellow\", \"key\", \"pocket\", \"strip\", \"road\", \"low\", \"headlight\", \"kit\", \"high\", \"nice\", \"little\", \"great\"], \"Total\": [4542.0, 3276.0, 6756.0, 2141.0, 2518.0, 9457.0, 2028.0, 2020.0, 1579.0, 1960.0, 2318.0, 2463.0, 1592.0, 1446.0, 2499.0, 1115.0, 2329.0, 1299.0, 1472.0, 1187.0, 1652.0, 1251.0, 6750.0, 747.0, 910.0, 2164.0, 1305.0, 952.0, 1076.0, 1464.0, 2318.94873046875, 884.6398315429688, 817.2010498046875, 675.2501831054688, 553.2001342773438, 536.9596557617188, 471.3817138671875, 464.5133972167969, 446.731689453125, 432.4476318359375, 420.2947082519531, 404.1343994140625, 395.6999206542969, 366.31170654296875, 364.2434387207031, 362.6292724609375, 315.9054870605469, 303.5064697265625, 287.3882141113281, 253.84335327148438, 252.67860412597656, 241.49264526367188, 239.21571350097656, 224.29241943359375, 228.18112182617188, 210.450439453125, 201.23748779296875, 187.0814208984375, 165.1871337890625, 149.81822204589844, 453.84979248046875, 619.5425415039062, 715.3033447265625, 764.08203125, 361.8705139160156, 1008.5043334960938, 405.42144775390625, 847.2797241210938, 1851.466796875, 1695.4930419921875, 810.6028442382812, 951.2534790039062, 3825.3154296875, 997.2380981445312, 1206.07373046875, 1244.2149658203125, 2375.15234375, 2178.3037109375, 2553.027099609375, 5272.779296875, 3700.582763671875, 6750.9423828125, 1547.785888671875, 2367.9287109375, 4470.0107421875, 1027.9569091796875, 1268.9344482421875, 4695.6708984375, 2164.925537109375, 1984.8160400390625, 6756.87109375, 3276.736572265625, 1251.420654296875, 1076.4249267578125, 769.6693725585938, 741.74755859375, 712.8612060546875, 656.0703735351562, 642.7406005859375, 502.5697937011719, 433.06658935546875, 432.4112854003906, 424.3883056640625, 397.5292053222656, 388.348388671875, 366.67083740234375, 358.4095764160156, 332.9329833984375, 327.62677001953125, 327.9796142578125, 294.9124450683594, 283.2747802734375, 279.31878662109375, 275.6669006347656, 269.1548156738281, 256.6030578613281, 248.782470703125, 243.34779357910156, 238.52723693847656, 237.6593780517578, 234.69813537597656, 543.8003540039062, 1652.4720458984375, 427.309814453125, 1362.2939453125, 620.3197631835938, 743.3367919921875, 790.9946899414062, 1048.9375, 369.8827819824219, 9457.9306640625, 538.3244018554688, 2290.9619140625, 4470.0107421875, 4695.6708984375, 1444.7452392578125, 2367.9287109375, 651.2437133789062, 2178.3037109375, 3700.582763671875, 1244.2149658203125, 2518.79248046875, 1472.7269287109375, 986.7007446289062, 616.8829956054688, 569.3607177734375, 501.21539306640625, 482.06719970703125, 470.7710266113281, 462.9491271972656, 280.8171081542969, 275.7785949707031, 275.0054931640625, 260.4012451171875, 246.58058166503906, 242.90805053710938, 217.05325317382812, 207.82208251953125, 202.0572967529297, 202.46432495117188, 198.72557067871094, 191.09983825683594, 185.77769470214844, 183.4137725830078, 182.55091857910156, 176.7580108642578, 176.1148223876953, 175.1166534423828, 163.32449340820312, 153.1756591796875, 147.82533264160156, 766.3353271484375, 533.0670166015625, 2463.17236328125, 1004.53466796875, 2329.296630859375, 1208.780029296875, 716.4517822265625, 344.7131652832031, 312.3201599121094, 9457.9306640625, 400.1007995605469, 1106.220458984375, 259.3927917480469, 1863.8011474609375, 1206.039306640625, 4470.0107421875, 6750.9423828125, 787.308349609375, 6756.87109375, 5272.779296875, 1807.709716796875, 4695.6708984375, 1215.01708984375, 1268.9344482421875, 2178.3037109375, 2375.15234375, 2367.9287109375, 2553.027099609375, 3700.582763671875, 2028.46826171875, 2020.1177978515625, 910.3953857421875, 697.8854370117188, 536.9200439453125, 533.988037109375, 520.051513671875, 377.5990905761719, 338.4435729980469, 314.919677734375, 233.49034118652344, 233.15304565429688, 199.8240509033203, 166.38433837890625, 159.75967407226562, 156.26856994628906, 155.3874053955078, 135.56349182128906, 130.14974975585938, 126.90615844726562, 126.42855834960938, 120.46013641357422, 115.37724304199219, 111.36408233642578, 105.77080535888672, 102.29176330566406, 100.23880767822266, 95.80723571777344, 92.57042694091797, 91.17682647705078, 433.4779052734375, 214.6973114013672, 370.8619079589844, 485.45965576171875, 577.8963623046875, 749.2865600585938, 907.0202026367188, 1547.785888671875, 378.47161865234375, 346.7677917480469, 2390.08447265625, 1695.4136962890625, 1405.7962646484375, 1368.203125, 1035.3330078125, 1449.787109375, 2202.1669921875, 9457.9306640625, 4695.6708984375, 693.21826171875, 3700.582763671875, 6750.9423828125, 2129.38623046875, 3825.3154296875, 5272.779296875, 1960.726806640625, 1592.2208251953125, 1446.0751953125, 1187.7796630859375, 551.4177856445312, 300.5289611816406, 293.7951965332031, 195.54238891601562, 193.48806762695312, 153.8644256591797, 150.29449462890625, 150.69839477539062, 147.8365478515625, 131.21359252929688, 128.48609924316406, 125.45198822021484, 123.83538818359375, 120.22415924072266, 97.72154998779297, 97.25794982910156, 87.75078582763672, 79.96404266357422, 79.03607177734375, 77.3180160522461, 76.20846557617188, 73.988525390625, 74.54924011230469, 73.23881530761719, 73.3537826538086, 69.34829711914062, 369.8594970703125, 888.4796752929688, 286.0878601074219, 282.09722900390625, 139.77108764648438, 2499.552978515625, 1305.903076171875, 329.7049255371094, 429.6592102050781, 829.3685302734375, 2164.925537109375, 590.9054565429688, 1234.642578125, 6750.9423828125, 271.02490234375, 311.13916015625, 796.119140625, 1490.7725830078125, 5272.779296875, 6756.87109375, 620.1032104492188, 1000.8170166015625, 2129.38623046875, 2390.08447265625, 1439.560791015625, 1111.103515625, 1142.4234619140625, 863.1253662109375, 4695.6708984375, 9457.9306640625, 4470.0107421875, 2290.9619140625, 2202.1669921875, 1048.9375, 3700.582763671875, 2141.317626953125, 1299.365234375, 637.94580078125, 636.9592895507812, 632.617431640625, 625.552001953125, 521.3008422851562, 333.5246276855469, 313.7414245605469, 296.72296142578125, 251.4307403564453, 249.07623291015625, 211.96670532226562, 180.96609497070312, 180.40484619140625, 177.78170776367188, 177.0576934814453, 140.38339233398438, 137.5109405517578, 132.99403381347656, 129.382568359375, 128.2624053955078, 125.5719985961914, 115.8672103881836, 108.81402587890625, 103.69548797607422, 99.65605163574219, 98.58704376220703, 96.8547134399414, 96.1304931640625, 105.84889221191406, 952.105712890625, 816.88134765625, 815.658935546875, 250.84825134277344, 1464.3177490234375, 1196.0570068359375, 6756.87109375, 874.1759643554688, 992.641357421875, 343.412109375, 475.9265441894531, 361.75421142578125, 752.6563110351562, 9457.9306640625, 1215.01708984375, 1130.7442626953125, 1035.3330078125, 6750.9423828125, 2202.1669921875, 4695.6708984375, 5272.779296875, 4470.0107421875, 3825.3154296875, 3700.582763671875, 2390.08447265625, 2290.9619140625, 1695.4930419921875, 4542.42431640625, 1579.1392822265625, 1115.6751708984375, 747.1615600585938, 539.8525390625, 253.8056640625, 236.2985382080078, 231.70504760742188, 224.23443603515625, 199.6030731201172, 175.3325653076172, 170.4719696044922, 147.7609405517578, 144.3742218017578, 140.26634216308594, 136.66136169433594, 134.23382568359375, 129.37905883789062, 121.19314575195312, 120.43782043457031, 118.5238265991211, 115.52325439453125, 115.63014221191406, 107.51366424560547, 103.8436508178711, 97.46765899658203, 89.6568374633789, 80.05696105957031, 79.3259048461914, 79.30455780029297, 398.3446350097656, 395.33502197265625, 848.3037719726562, 412.8277893066406, 232.9093017578125, 658.168212890625, 313.19403076171875, 972.8306884765625, 231.05618286132812, 290.3646240234375, 366.49114990234375, 290.9308166503906, 323.7212219238281, 560.4326782226562, 914.335693359375, 443.3602294921875, 1464.3177490234375, 1439.560791015625, 2375.15234375, 2553.027099609375, 5272.779296875], \"loglift\": [30.0, 29.0, 28.0, 27.0, 26.0, 25.0, 24.0, 23.0, 22.0, 21.0, 20.0, 19.0, 18.0, 17.0, 16.0, 15.0, 14.0, 13.0, 12.0, 11.0, 10.0, 9.0, 8.0, 7.0, 6.0, 5.0, 4.0, 3.0, 2.0, 1.0, 1.5008000135421753, 1.5003000497817993, 1.5003000497817993, 1.500100016593933, 1.499899983406067, 1.4997999668121338, 1.4996000528335571, 1.4996000528335571, 1.499500036239624, 1.499500036239624, 1.499400019645691, 1.499400019645691, 1.4993000030517578, 1.4991999864578247, 1.4991999864578247, 1.4991999864578247, 1.498900055885315, 1.4988000392913818, 1.4987000226974487, 1.4982999563217163, 1.4982999563217163, 1.4982000589370728, 1.4982000589370728, 1.4980000257492065, 1.4979000091552734, 1.4977999925613403, 1.4975999593734741, 1.4973000288009644, 1.4967999458312988, 1.496399998664856, 1.462399959564209, 1.4170000553131104, 1.3894000053405762, 1.38100004196167, 1.4393999576568604, 1.2996000051498413, 1.4163000583648682, 1.3035000562667847, 1.1231000423431396, 1.1126999855041504, 1.2584999799728394, 1.2007999420166016, 0.814300000667572, 1.1720999479293823, 1.0324000120162964, 0.968999981880188, 0.6646000146865845, 0.6951000094413757, 0.5928999781608582, 0.2418999969959259, 0.40299999713897705, 0.021199999377131462, 0.7936999797821045, 0.5206999778747559, 0.1379999965429306, 0.9700000286102295, 0.8169000148773193, -0.11190000176429749, 0.4228000044822693, 0.3668999969959259, -0.8428000211715698, 1.7079999446868896, 1.7075999975204468, 1.7074999809265137, 1.7072999477386475, 1.707200050354004, 1.707200050354004, 1.7071000337600708, 1.7071000337600708, 1.7067999839782715, 1.7065000534057617, 1.7065000534057617, 1.7065000534057617, 1.7064000368118286, 1.7063000202178955, 1.7062000036239624, 1.7062000036239624, 1.7059999704360962, 1.7059999704360962, 1.7059999704360962, 1.7057000398635864, 1.7056000232696533, 1.7056000232696533, 1.7055000066757202, 1.7055000066757202, 1.705399990081787, 1.705299973487854, 1.705199956893921, 1.7051000595092773, 1.7051000595092773, 1.7051000595092773, 1.6614999771118164, 1.5944000482559204, 1.655900001525879, 1.5220999717712402, 1.5392999649047852, 1.475000023841858, 1.4217000007629395, 1.308500051498413, 1.5938999652862549, 0.27149999141693115, 1.4265999794006348, 0.6414999961853027, 0.20080000162124634, 0.16619999706745148, 0.6942999958992004, 0.22529999911785126, 1.2366000413894653, 0.24300000071525574, -0.23589999973773956, 0.5931000113487244, 1.788699984550476, 1.7884999513626099, 1.7883000373840332, 1.7877999544143677, 1.7877000570297241, 1.787500023841858, 1.787500023841858, 1.7874000072479248, 1.7874000072479248, 1.7863999605178833, 1.7862999439239502, 1.7862999439239502, 1.7862000465393066, 1.7860000133514404, 1.7860000133514404, 1.785599946975708, 1.7854000329971313, 1.7853000164031982, 1.7853000164031982, 1.7853000164031982, 1.785099983215332, 1.784999966621399, 1.784999966621399, 1.7848999500274658, 1.7848000526428223, 1.7848000526428223, 1.7848000526428223, 1.7843999862670898, 1.7841999530792236, 1.7839000225067139, 1.7755999565124512, 1.7467000484466553, 1.6470999717712402, 1.68149995803833, 1.6038000583648682, 1.6201000213623047, 1.621999979019165, 1.6796000003814697, 1.6670000553131104, 0.7876999974250793, 1.5776000022888184, 1.194000005722046, 1.6922999620437622, 0.9376000165939331, 1.0465999841690063, 0.4316999912261963, 0.23019999265670776, 1.2086000442504883, 0.1136000007390976, 0.2176000028848648, 0.6800000071525574, 0.016100000590085983, 0.849399983882904, 0.7943999767303467, 0.40130001306533813, 0.30570000410079956, 0.28999999165534973, 0.13019999861717224, -0.26750001311302185, 2.1070001125335693, 2.1070001125335693, 2.106600046157837, 2.106300115585327, 2.1059999465942383, 2.1059999465942383, 2.1059999465942383, 2.1054000854492188, 2.1052000522613525, 2.10509991645813, 2.1041998863220215, 2.1041998863220215, 2.1036999225616455, 2.1029999256134033, 2.102799892425537, 2.1026999950408936, 2.10260009765625, 2.1019999980926514, 2.101599931716919, 2.101599931716919, 2.101599931716919, 2.101300001144409, 2.100800037384033, 2.100800037384033, 2.1005001068115234, 2.100100040435791, 2.0999999046325684, 2.099600076675415, 2.099400043487549, 2.0992000102996826, 1.9538999795913696, 1.982200026512146, 1.8833999633789062, 1.8313000202178955, 1.5937000513076782, 1.504699945449829, 1.4386999607086182, 1.1222000122070312, 1.6461000442504883, 1.6811000108718872, 0.8596000075340271, 0.9696999788284302, 1.030400037765503, 1.0392999649047852, 1.1274000406265259, 0.949400007724762, 0.6445000171661377, -0.26260000467300415, 0.094200000166893, 1.2632999420166016, 0.09440000355243683, -0.41850000619888306, 0.3953999876976013, -0.12479999661445618, -0.694599986076355, 2.111299991607666, 2.1112000942230225, 2.1112000942230225, 2.1110999584198, 2.1103999614715576, 2.109299898147583, 2.109299898147583, 2.108099937438965, 2.1080000400543213, 2.107100009918213, 2.1070001125335693, 2.1070001125335693, 2.1068999767303467, 2.106300115585327, 2.1061999797821045, 2.106100082397461, 2.1059000492095947, 2.105799913406372, 2.1045000553131104, 2.1045000553131104, 2.1036999225616455, 2.102799892425537, 2.1026999950408936, 2.1024999618530273, 2.102400064468384, 2.1022000312805176, 2.1022000312805176, 2.102099895477295, 2.102099895477295, 2.1015000343322754, 2.0636000633239746, 1.9895999431610107, 2.0269999504089355, 1.988800048828125, 2.050100088119507, 1.7819000482559204, 1.7934000492095947, 1.8633999824523926, 1.8070000410079956, 1.6469000577926636, 1.4081000089645386, 1.6323000192642212, 1.3759000301361084, 0.840399980545044, 1.833299994468689, 1.781499981880188, 1.4371000528335571, 1.1610000133514404, 0.6420999765396118, 0.4375, 1.4723999500274658, 1.2533999681472778, 0.8809000253677368, 0.7990000247955322, 0.9729999899864197, 1.117400050163269, 1.0285999774932861, 1.1797000169754028, -0.08100000023841858, -0.6741999983787537, -0.09539999812841415, 0.400299996137619, 0.428600013256073, 0.9998000264167786, -0.18889999389648438, 2.144200086593628, 2.143899917602539, 2.143399953842163, 2.143399953842163, 2.143399953842163, 2.143399953842163, 2.1431000232696533, 2.1422998905181885, 2.142199993133545, 2.1421000957489014, 2.1415998935699463, 2.1415998935699463, 2.1410999298095703, 2.140500068664551, 2.140500068664551, 2.140500068664551, 2.140399932861328, 2.139400005340576, 2.1393001079559326, 2.1389999389648438, 2.1389000415802, 2.1389000415802, 2.1387999057769775, 2.138200044631958, 2.1379001140594482, 2.137500047683716, 2.137200117111206, 2.137200117111206, 2.1370999813079834, 2.13700008392334, 2.136899948120117, 2.059000015258789, 1.9674999713897705, 1.9637000560760498, 2.015000104904175, 1.7062000036239624, 1.7304999828338623, 1.4169000387191772, 1.7732000350952148, 1.7056000232696533, 1.896399974822998, 1.7870999574661255, 1.8492000102996826, 1.5930999517440796, 0.7160999774932861, 1.3208999633789062, 1.3111000061035156, 1.3401999473571777, 0.33500000834465027, 0.8166999816894531, 0.3824999928474426, 0.24639999866485596, 0.2818000018596649, 0.3422999978065491, 0.15440000593662262, 0.40869998931884766, 0.2531000077724457, 0.5372999906539917, 2.6721999645233154, 2.6719000339508057, 2.6717000007629395, 2.671299934387207, 2.6710000038146973, 2.6693999767303467, 2.6691999435424805, 2.669100046157837, 2.6689999103546143, 2.668600082397461, 2.668100118637085, 2.6679999828338623, 2.66729998588562, 2.6672000885009766, 2.667099952697754, 2.6668999195098877, 2.666800022125244, 2.666599988937378, 2.6661999225616455, 2.6661999225616455, 2.666100025177002, 2.6658999919891357, 2.6656999588012695, 2.6654999256134033, 2.6651999950408936, 2.6647000312805176, 2.664099931716919, 2.6630001068115234, 2.6630001068115234, 2.662899971008301, 2.529099941253662, 2.501800060272217, 2.2802000045776367, 2.3387999534606934, 2.4449000358581543, 2.1407999992370605, 2.319000005722046, 1.8634999990463257, 2.3973000049591064, 2.2346999645233154, 2.1029000282287598, 2.186800003051758, 2.1019999980926514, 1.7136000394821167, 1.323099970817566, 1.7877999544143677, 0.8009999990463257, 0.7552000284194946, 0.3314000070095062, 0.17389999330043793, -0.5392000079154968], \"logprob\": [30.0, 29.0, 28.0, 27.0, 26.0, 25.0, 24.0, 23.0, 22.0, 21.0, 20.0, 19.0, 18.0, 17.0, 16.0, 15.0, 14.0, 13.0, 12.0, 11.0, 10.0, 9.0, 8.0, 7.0, 6.0, 5.0, 4.0, 3.0, 2.0, 1.0, -3.9655001163482666, -4.929699897766113, -5.008999824523926, -5.199999809265137, -5.399600028991699, -5.429500102996826, -5.559899806976318, -5.5746002197265625, -5.613699913024902, -5.646200180053711, -5.674799919128418, -5.714099884033203, -5.735199928283691, -5.8125, -5.81820011138916, -5.8225998878479, -5.960899829864502, -6.000999927520752, -6.055699825286865, -6.180099964141846, -6.184700012207031, -6.230199813842773, -6.239699840545654, -6.304299831390381, -6.287199974060059, -6.368199825286865, -6.413099765777588, -6.486299991607666, -6.611299991607666, -6.709400177001953, -5.635000228881836, -5.369200229644775, -5.2530999183654785, -5.1956000328063965, -5.884500026702881, -4.999300003051758, -5.794000148773193, -5.1697001457214355, -4.568399906158447, -4.6666998863220215, -5.258900165557861, -5.156599998474121, -4.151500225067139, -5.1381001472473145, -5.087600231170654, -5.119900226593018, -4.7778000831604, -4.833799839019775, -4.777200222015381, -4.402900218963623, -4.595900058746338, -4.3765997886657715, -5.076900005340576, -4.924699783325195, -4.671999931335449, -5.309899806976318, -5.252399921417236, -4.872700214385986, -5.112299919128418, -5.255000114440918, -5.23960018157959, -3.412600040435791, -4.375500202178955, -4.526299953460693, -4.861999988555908, -4.898900032043457, -4.938700199127197, -5.0218000411987305, -5.042399883270264, -5.288700103759766, -5.43779993057251, -5.439300060272217, -5.458000183105469, -5.523499965667725, -5.546999931335449, -5.604499816894531, -5.627299785614014, -5.701200008392334, -5.717299938201904, -5.71619987487793, -5.822800159454346, -5.863100051879883, -5.877200126647949, -5.890399932861328, -5.914400100708008, -5.962299823760986, -5.993299961090088, -6.015500068664551, -6.035600185394287, -6.0391998291015625, -6.051799774169922, -5.255099773406982, -4.210700035095215, -5.501800060272217, -4.476099967956543, -5.245699882507324, -5.129000186920166, -5.120200157165527, -4.951200008392334, -5.708099842071533, -3.789099931716919, -5.500100135803223, -4.836999893188477, -4.609300136566162, -4.594600200653076, -5.245200157165527, -5.220099925994873, -5.49970006942749, -5.285900115966797, -5.234799861907959, -5.4959001541137695, -3.594899892807007, -4.131800174713135, -4.532599925994873, -5.002699851989746, -5.083000183105469, -5.210599899291992, -5.249599933624268, -5.273399829864502, -5.290200233459473, -5.791100025177002, -5.809299945831299, -5.812099933624268, -5.866799831390381, -5.921500205993652, -5.936500072479248, -6.049499988555908, -6.093100070953369, -6.121300220489502, -6.11929988861084, -6.138000011444092, -6.177299976348877, -6.205599784851074, -6.218500137329102, -6.223199844360352, -6.2555999755859375, -6.259300231933594, -6.264999866485596, -6.335000038146973, -6.399400234222412, -6.435200214385986, -4.797999858856201, -5.189799785614014, -3.7588000297546387, -4.621399879455566, -3.8580000400543213, -4.497700214385986, -5.018899917602539, -5.69290018081665, -5.804200172424316, -3.2727999687194824, -5.645899772644043, -5.012400150299072, -5.9644999504089355, -4.747200012207031, -5.073400020599365, -4.378399848937988, -4.167600154876709, -5.3379998207092285, -4.283299922943115, -4.427299976348877, -5.035399913787842, -4.74459981918335, -5.263299942016602, -5.274799823760986, -5.127600193023682, -5.13670015335083, -5.155399799346924, -5.239999771118164, -5.266499996185303, -3.4930999279022217, -3.4972000122070312, -4.2947001457214355, -4.560800075531006, -4.823299884796143, -4.828800201416016, -4.855299949645996, -5.175899982452393, -5.285600185394287, -5.357800006866455, -5.657800197601318, -5.659299850463867, -5.8140997886657715, -5.997900009155273, -6.038700103759766, -6.0609002113342285, -6.066699981689453, -6.203800201416016, -6.244900226593018, -6.270199775695801, -6.273900032043457, -6.3225998878479, -6.366099834442139, -6.401599884033203, -6.453499794006348, -6.487199783325195, -6.507599830627441, -6.553199768066406, -6.587800025939941, -6.6031999588012695, -5.1894001960754395, -5.863800048828125, -5.415999889373779, -5.198800086975098, -5.2621002197265625, -5.091300010681152, -4.966300010681152, -4.7484002113342285, -5.632900238037109, -5.685500144958496, -4.576499938964844, -4.809800148010254, -4.936500072479248, -4.954599857330322, -5.145299911499023, -4.986599922180176, -4.873499870300293, -4.323200225830078, -4.666600227355957, -5.4105000495910645, -4.9045000076293945, -4.816299915313721, -5.156199932098389, -5.09060001373291, -5.3394999504089355, -3.5227999687194824, -3.731100082397461, -3.827399969100952, -4.0243000984191895, -4.792300224304199, -5.400300025939941, -5.422999858856201, -5.831299781799316, -5.8420000076293945, -6.072000026702881, -6.095600128173828, -6.092899799346924, -6.112100124359131, -6.232100009918213, -6.253200054168701, -6.277200222015381, -6.290299892425537, -6.320000171661377, -6.528600215911865, -6.533400058746338, -6.63700008392334, -6.730800151824951, -6.742599964141846, -6.764699935913086, -6.779300212860107, -6.809100151062012, -6.801599979400635, -6.819399833679199, -6.817800045013428, -6.874499797821045, -5.238399982452393, -4.436100006103516, -5.531899929046631, -5.584199905395508, -6.225100040435791, -3.609499931335449, -4.247200012207031, -5.553599834442139, -5.345200061798096, -4.847599983215332, -4.1269001960754395, -5.201200008392334, -4.720699787139893, -3.5573999881744385, -5.779699802398682, -5.693399906158447, -5.098299980163574, -4.747200012207031, -4.002799987792969, -3.959399938583374, -5.312900066375732, -5.053199768066406, -4.6707000732421875, -4.6371002197265625, -4.970099925994873, -5.08459997177124, -5.145599842071533, -5.274899959564209, -4.841800212860107, -4.7347002029418945, -4.9054999351501465, -5.078199863433838, -5.089300155639648, -5.259799957275391, -5.187900066375732, -3.4017999172210693, -3.901599884033203, -4.61359977722168, -4.615099906921387, -4.6219000816345215, -4.633200168609619, -4.815700054168701, -5.2631001472473145, -5.324399948120117, -5.380300045013428, -5.54640007019043, -5.555799961090088, -5.717599868774414, -5.876299858093262, -5.879499912261963, -5.894199848175049, -5.8983001708984375, -6.131400108337402, -6.152200222015381, -6.1859002113342285, -6.213500022888184, -6.2221999168396, -6.243500232696533, -6.32450008392334, -6.387700080871582, -6.436200141906738, -6.476200103759766, -6.487100124359131, -6.504899978637695, -6.512499809265137, -6.416200160980225, -4.297500133514404, -4.542200088500977, -4.547500133514404, -5.6753997802734375, -4.219900131225586, -4.397900104522705, -2.9800000190734863, -4.668700218200684, -4.6092000007629395, -5.479899883270264, -5.262800216674805, -5.474999904632568, -4.998499870300293, -3.3445000648498535, -4.791800022125244, -4.873499870300293, -4.932499885559082, -4.062699794769287, -4.701200008392334, -4.378300189971924, -4.398499965667725, -4.528299808502197, -4.623499870300293, -4.844600200653076, -5.027400016784668, -5.225299835205078, -5.242099761962891, -2.121799945831299, -3.1786999702453613, -3.5262999534606934, -3.9275999069213867, -4.252900123596191, -5.009200096130371, -5.080900192260742, -5.100599765777588, -5.133500099182129, -5.250199794769287, -5.38040018081665, -5.408599853515625, -5.552299976348877, -5.5756001472473145, -5.604599952697754, -5.630799770355225, -5.648799896240234, -5.685800075531006, -5.7515997886657715, -5.757800102233887, -5.77400016784668, -5.799799919128418, -5.799099922180176, -5.872099876403809, -5.907100200653076, -5.970900058746338, -6.055099964141846, -6.169400215148926, -6.178599834442139, -6.178999900817871, -4.698800086975098, -4.73360013961792, -4.191699981689453, -4.853300094604492, -5.319699764251709, -4.58489990234375, -5.149400234222412, -4.471499919891357, -5.37529993057251, -5.3094000816345215, -5.2083001136779785, -5.355299949645996, -5.3333001136779785, -5.172900199890137, -5.07390022277832, -5.333000183105469, -5.125, -5.187900066375732, -5.111000061035156, -5.196300029754639, -5.184100151062012]}, \"token.table\": {\"Topic\": [3, 5, 2, 2, 4, 1, 1, 2, 5, 4, 3, 4, 5, 2, 4, 2, 1, 2, 3, 6, 6, 6, 4, 5, 2, 3, 5, 6, 2, 7, 1, 5, 2, 7, 1, 2, 4, 6, 4, 7, 4, 2, 3, 1, 1, 3, 6, 3, 4, 5, 6, 7, 7, 3, 3, 6, 6, 6, 7, 1, 4, 5, 2, 1, 5, 2, 3, 4, 5, 6, 6, 3, 5, 3, 4, 5, 2, 5, 1, 3, 4, 5, 1, 2, 4, 2, 6, 3, 4, 6, 3, 6, 3, 1, 2, 4, 6, 3, 6, 6, 2, 2, 4, 5, 3, 4, 6, 7, 5, 6, 6, 3, 5, 2, 2, 7, 7, 7, 5, 2, 2, 3, 4, 5, 6, 1, 4, 7, 5, 2, 2, 3, 4, 5, 6, 7, 2, 5, 5, 6, 5, 3, 3, 5, 5, 1, 3, 7, 2, 7, 7, 4, 1, 2, 4, 7, 3, 6, 6, 3, 1, 1, 2, 3, 4, 5, 6, 5, 7, 1, 2, 3, 4, 5, 6, 7, 2, 5, 3, 1, 2, 3, 4, 3, 5, 3, 6, 1, 4, 5, 7, 2, 4, 4, 1, 4, 7, 2, 1, 2, 6, 5, 3, 4, 6, 6, 1, 2, 3, 4, 5, 6, 7, 1, 2, 3, 4, 5, 6, 7, 3, 7, 1, 3, 5, 6, 1, 3, 7, 6, 1, 3, 6, 7, 1, 2, 3, 4, 4, 7, 1, 2, 3, 4, 5, 6, 7, 1, 1, 7, 1, 2, 3, 3, 4, 4, 7, 5, 2, 2, 5, 1, 4, 5, 7, 3, 4, 4, 1, 1, 7, 1, 3, 4, 5, 6, 2, 7, 4, 1, 5, 6, 7, 3, 7, 2, 1, 2, 3, 1, 3, 4, 5, 6, 7, 5, 3, 7, 4, 6, 7, 7, 1, 3, 3, 6, 1, 2, 3, 4, 5, 6, 7, 1, 5, 1, 7, 1, 1, 2, 3, 4, 5, 6, 7, 1, 2, 3, 4, 5, 7, 5, 2, 7, 4, 6, 1, 4, 3, 3, 5, 3, 5, 1, 2, 3, 5, 6, 7, 7, 2, 4, 5, 6, 6, 2, 5, 1, 2, 3, 4, 5, 6, 1, 2, 3, 4, 5, 6, 7, 4, 7, 6, 3, 2, 4, 7, 5, 1, 2, 3, 4, 5, 6, 7, 7, 2, 1, 6, 6, 1, 3, 4, 5, 6, 6, 7, 4, 1, 2, 3, 4, 5, 1, 3, 4, 6, 1, 6, 2, 6, 2, 5, 7, 6, 3, 2, 6, 2, 7, 6, 1, 2, 1, 3, 4, 5, 7, 4, 1, 2, 3, 4, 5, 7, 1, 2, 3, 4, 5, 6, 1, 5, 1, 3, 4, 5, 6, 4, 4, 1, 5, 4, 2, 3, 4, 6, 1, 2, 3, 4, 5, 6, 4, 3, 1, 3, 4, 5, 6, 7, 7, 2, 3, 6, 4, 3, 6, 1, 6, 1, 3, 7, 1, 2, 2, 5, 2, 6, 3, 6, 5, 1, 3, 4, 7, 5, 5, 1, 2, 3, 4, 6, 3, 6, 4, 3, 5, 7, 1, 3, 6, 2, 1, 4, 3, 3, 6, 3, 1, 1, 6, 4, 5, 7, 1, 3, 5, 1, 1, 6, 7, 1, 3, 5, 6, 1, 4, 5, 4, 6, 4, 1, 3, 6, 6, 2, 7, 5, 6, 1, 2, 6, 5, 4, 2, 1, 5, 2, 1, 2, 3, 4, 5, 6, 7, 1, 1, 1, 1, 2, 3, 4, 5, 6, 1, 5, 1, 2, 5, 2, 3, 1, 5, 1, 1, 4, 1, 2, 4, 5, 1, 2, 3, 4, 5, 6, 7, 1, 2, 2, 1, 2, 3, 5, 6, 1, 2, 3, 4, 5, 6, 7, 3, 7, 7, 7, 3, 6, 3, 6, 2, 3, 6, 1, 2, 3, 4, 5, 6, 7, 1, 2, 4, 1, 1, 3, 4, 5, 6, 7, 1, 3, 3, 6, 7, 3, 3, 4, 4, 2, 4, 4, 2, 7, 7, 1, 2, 3, 4, 5, 6, 7, 1, 2, 3, 4, 5, 6, 7, 1, 5, 7, 2, 3, 4, 5, 6, 6, 7, 2], \"Freq\": [0.9936233758926392, 0.9983721971511841, 0.9977896213531494, 0.8447256088256836, 0.15475890040397644, 0.9966776371002197, 0.2700018584728241, 0.36000245809555054, 0.36990252137184143, 0.9911659359931946, 0.04517946392297745, 0.22742882370948792, 0.7274659276008606, 0.9968547821044922, 0.9927124977111816, 0.9988477230072021, 0.1381772756576538, 0.19663690030574799, 0.08901805430650711, 0.5766243934631348, 0.9956790804862976, 0.9954448342323303, 0.9970796704292297, 0.9951770305633545, 0.0981544479727745, 0.15400095283985138, 0.6193884015083313, 0.12861616909503937, 0.9991028904914856, 0.998420774936676, 0.9978596568107605, 0.9926325082778931, 0.999775230884552, 0.9968256950378418, 0.15551097691059113, 0.0953131839632988, 0.08778845518827438, 0.6613397002220154, 0.99944669008255, 0.9969571232795715, 0.997506856918335, 0.18995213508605957, 0.8097959160804749, 0.9971930384635925, 0.9982128143310547, 0.3100062310695648, 0.6897924542427063, 0.1228095069527626, 0.2386675328016281, 0.3939172923564911, 0.2433018535375595, 0.9993948340415955, 0.9952223300933838, 0.9993664622306824, 0.996343731880188, 0.9940263032913208, 0.9962843656539917, 0.9940454363822937, 0.9992785453796387, 0.9992988109588623, 0.9966102838516235, 0.9980405569076538, 0.9987918734550476, 0.9983312487602234, 0.9962167143821716, 0.23768413066864014, 0.36741653084754944, 0.09346653521060944, 0.0616413913667202, 0.2396930307149887, 0.9979541301727295, 0.9984591007232666, 0.9973477721214294, 0.9960442781448364, 0.11367733031511307, 0.8846572637557983, 0.9991303086280823, 0.9993435740470886, 0.290772408246994, 0.1052936315536499, 0.12473245710134506, 0.4794909954071045, 0.049144670367240906, 0.95013028383255, 0.9984134435653687, 0.9980869293212891, 0.9984939694404602, 0.8311522006988525, 0.02876404859125614, 0.1403857320547104, 0.9059619307518005, 0.08866861462593079, 0.9979498386383057, 0.04056665673851967, 0.1361880600452423, 0.37572452425956726, 0.44719910621643066, 0.9865133166313171, 0.013049118220806122, 0.9994229078292847, 0.9989921450614929, 0.2508883476257324, 0.6517329812049866, 0.09516454488039017, 0.31660184264183044, 0.008223424665629864, 0.2292279601097107, 0.4450928568840027, 0.9972262382507324, 0.995439350605011, 0.9975635409355164, 0.997090220451355, 0.997264564037323, 0.9975371360778809, 0.9543944001197815, 0.04413384571671486, 0.9955804347991943, 0.9918757677078247, 0.9879440665245056, 0.9990488290786743, 0.13384868204593658, 0.05644221603870392, 0.21931833028793335, 0.5273315906524658, 0.06450539082288742, 0.8873392939567566, 0.11255335807800293, 0.994550347328186, 0.9972933530807495, 0.997197687625885, 0.2326083928346634, 0.1422681212425232, 0.3407321572303772, 0.11168047785758972, 0.09531964361667633, 0.07753612846136093, 0.08039488643407822, 0.919297993183136, 0.9914441108703613, 0.9984270334243774, 0.9998612999916077, 0.998568594455719, 0.8837085366249084, 0.11206448823213577, 0.9868911504745483, 0.7846012711524963, 0.18998205661773682, 0.025906644761562347, 0.9990299940109253, 0.9867973923683167, 0.9981032609939575, 0.987092912197113, 0.10901608318090439, 0.0795990452170372, 0.598723292350769, 0.21284092962741852, 0.8979281783103943, 0.10153955221176147, 0.9970431327819824, 0.9977862238883972, 0.9991490840911865, 0.5032264590263367, 0.08835873007774353, 0.05306752026081085, 0.10718070715665817, 0.08313039690256119, 0.16495372354984283, 0.2380373477935791, 0.7573915719985962, 0.5875732898712158, 0.14689332246780396, 0.09436193108558655, 0.06615063548088074, 0.03404812142252922, 0.04377615451812744, 0.026265691965818405, 0.6702020168304443, 0.32890424132347107, 0.9923247694969177, 0.12631788849830627, 0.754192054271698, 0.055728480219841, 0.06315894424915314, 0.9957115650177002, 0.9992564916610718, 0.164284348487854, 0.8349077701568604, 0.685402512550354, 0.15771278738975525, 0.15717267990112305, 0.9958915710449219, 0.8921745419502258, 0.10543880611658096, 0.9961801767349243, 0.8202722072601318, 0.05429139733314514, 0.12392601370811462, 0.9988572597503662, 0.24778927862644196, 0.750953197479248, 0.9925190806388855, 0.998135507106781, 0.4010280966758728, 0.4298790395259857, 0.16733546555042267, 0.9972689747810364, 0.22767192125320435, 0.012887089513242245, 0.21034100651741028, 0.07998882979154587, 0.28040528297424316, 0.16368085145950317, 0.02488541416823864, 0.28391098976135254, 0.0274997279047966, 0.20767036080360413, 0.060689058154821396, 0.23004946112632751, 0.14982610940933228, 0.04020649939775467, 0.9975751042366028, 0.9952018857002258, 0.2902061343193054, 0.4759380519390106, 0.05969954654574394, 0.17412367463111877, 0.9175636768341064, 0.07893020659685135, 0.994850218296051, 0.9911752939224243, 0.9395626187324524, 0.05803180858492851, 0.5864306092262268, 0.41275691986083984, 0.7400761246681213, 0.03994728997349739, 0.08199707418680191, 0.13771302998065948, 0.9958433508872986, 0.9963647723197937, 0.19172514975070953, 0.06599234789609909, 0.10975569486618042, 0.09030532091856003, 0.32023656368255615, 0.07502288371324539, 0.14726713299751282, 0.9982646703720093, 0.9978305697441101, 0.9926738739013672, 0.11377867311239243, 0.8302173018455505, 0.055788252502679825, 0.9944168329238892, 0.9986893534660339, 0.9952449202537537, 0.9970701932907104, 0.9926162362098694, 0.9981704354286194, 0.0572364442050457, 0.9372467398643494, 0.6259981989860535, 0.24708274006843567, 0.06384352594614029, 0.06301438808441162, 0.9983621835708618, 0.9979780316352844, 0.9950545430183411, 0.9996294975280762, 0.8947253227233887, 0.10485062003135681, 0.22641900181770325, 0.42708417773246765, 0.08101722598075867, 0.09282106161117554, 0.17276521027088165, 0.43111544847488403, 0.5648158192634583, 0.995876133441925, 0.09082727879285812, 0.10994881391525269, 0.6453517079353333, 0.15365517139434814, 0.9942446947097778, 0.9974079728126526, 0.9957094788551331, 0.5043601989746094, 0.12530198693275452, 0.36960142850875854, 0.15450544655323029, 0.08966834098100662, 0.3138391673564911, 0.20140887796878815, 0.1945113241672516, 0.04621368274092674, 0.9963971376419067, 0.999506413936615, 0.9969786405563354, 0.9971477389335632, 0.9976368546485901, 0.999906599521637, 0.9951605796813965, 0.9948237538337708, 0.9963488578796387, 0.21839648485183716, 0.7804034352302551, 0.40305095911026, 0.07677160948514938, 0.19036225974559784, 0.09008913487195969, 0.07559653371572495, 0.08147191256284714, 0.0822552964091301, 0.04596339911222458, 0.9544164538383484, 0.201795294880867, 0.7985941171646118, 0.998362123966217, 0.18753011524677277, 0.0968075767159462, 0.32969895005226135, 0.0724673867225647, 0.11063723266124725, 0.15046663582324982, 0.052552685141563416, 0.18592733144760132, 0.24389292299747467, 0.03609177842736244, 0.12577436864376068, 0.14874187111854553, 0.25920456647872925, 0.9967392086982727, 0.9970132112503052, 0.9901549816131592, 0.9982864260673523, 0.9985174536705017, 0.9200336933135986, 0.07909061759710312, 0.9936699271202087, 0.9992898106575012, 0.99924236536026, 0.9976454973220825, 0.9932540655136108, 0.19595056772232056, 0.06908513605594635, 0.08792653679847717, 0.50997394323349, 0.106767937541008, 0.030146241188049316, 0.9961596727371216, 0.1598641276359558, 0.512667715549469, 0.13560888171195984, 0.19183696806430817, 0.9956029653549194, 0.2398303598165512, 0.7563880681991577, 0.08627865463495255, 0.08037537336349487, 0.15030649304389954, 0.23159006237983704, 0.18572615087032318, 0.2651933431625366, 0.43323537707328796, 0.05389127880334854, 0.2269328087568283, 0.05220717564225197, 0.010525641031563282, 0.12672871351242065, 0.09641487151384354, 0.13305062055587769, 0.8660842180252075, 0.9925256967544556, 0.9977066516876221, 0.01849544234573841, 0.631487250328064, 0.34877118468284607, 0.9996293187141418, 0.12976184487342834, 0.1215042695403099, 0.16574126482009888, 0.32027581334114075, 0.11501617729663849, 0.12032461166381836, 0.027132021263241768, 0.9987366199493408, 0.9975807666778564, 0.08087337017059326, 0.917965292930603, 0.9997189044952393, 0.29246580600738525, 0.089215487241745, 0.19520080089569092, 0.38637682795524597, 0.036222830414772034, 0.9946614503860474, 0.9984453916549683, 0.9967306852340698, 0.8170515298843384, 0.027763886377215385, 0.041645828634500504, 0.07238441705703735, 0.0406542643904686, 0.6782687902450562, 0.021232761442661285, 0.10026582330465317, 0.20053164660930634, 0.9971336722373962, 0.9934168457984924, 0.9996052384376526, 0.9932929873466492, 0.12374076247215271, 0.25779324769973755, 0.6152665615081787, 0.9990240335464478, 0.9980131983757019, 0.9988662600517273, 0.992515504360199, 0.8926020860671997, 0.10711225122213364, 0.9882400035858154, 0.7199885249137878, 0.27977269887924194, 0.01840328983962536, 0.10361852496862411, 0.11522059887647629, 0.7189285755157471, 0.04360779747366905, 0.9967303276062012, 0.2616378366947174, 0.3626936972141266, 0.04014548659324646, 0.17719386518001556, 0.12874242663383484, 0.029763033613562584, 0.09590237587690353, 0.01154380477964878, 0.1872168332338333, 0.03463141247630119, 0.1875128298997879, 0.48306381702423096, 0.9986962676048279, 0.9943413734436035, 0.33996549248695374, 0.12009651213884354, 0.02863839827477932, 0.4947052299976349, 0.016166837885975838, 0.998731255531311, 0.9982813596725464, 0.9928134083747864, 0.9974775314331055, 0.9928596019744873, 0.04774255305528641, 0.09426093846559525, 0.01836252026259899, 0.8373308777809143, 0.11767258495092392, 0.17979785799980164, 0.14544624090194702, 0.3435162305831909, 0.1001313328742981, 0.11401815712451935, 0.9976176023483276, 0.9947673678398132, 0.3158273994922638, 0.051745735108852386, 0.20519860088825226, 0.01249034982174635, 0.032118041068315506, 0.3836321532726288, 0.9954705834388733, 0.9976498484611511, 0.9962617754936218, 0.9919801354408264, 0.9976900815963745, 0.2543163299560547, 0.7435988187789917, 0.9991902112960815, 0.9982868432998657, 0.3721540570259094, 0.5601363182067871, 0.06858812272548676, 0.9973143339157104, 0.996906042098999, 0.2606717050075531, 0.737794041633606, 0.9972255229949951, 0.9991175532341003, 0.11959421634674072, 0.877024233341217, 0.9982398748397827, 0.4929622411727905, 0.035534631460905075, 0.37343665957450867, 0.09820479899644852, 0.9943819046020508, 0.9866394996643066, 0.4466778337955475, 0.23091362416744232, 0.24973560869693756, 0.022953640669584274, 0.049579862505197525, 0.9586036801338196, 0.039394672960042953, 0.9981496930122375, 0.9971767663955688, 0.1542995125055313, 0.8423235416412354, 0.10049524903297424, 0.8458350300788879, 0.05303915962576866, 0.9986687898635864, 0.962873637676239, 0.03745732828974724, 0.9958138465881348, 0.3546094298362732, 0.6447444558143616, 0.9977440237998962, 0.9990982413291931, 0.29836538434028625, 0.6996877789497375, 0.07024721056222916, 0.21074162423610687, 0.7170059680938721, 0.2688792645931244, 0.10248760879039764, 0.6281887888908386, 0.9993316531181335, 0.34906578063964844, 0.08340509980916977, 0.565301239490509, 0.12911850214004517, 0.3086462616920471, 0.12734974920749664, 0.4342272877693176, 0.9989649057388306, 0.8803091049194336, 0.11644300818443298, 0.8581752181053162, 0.14072227478027344, 0.9915743470191956, 0.17036797106266022, 0.39094099402427673, 0.43867695331573486, 0.9977558851242065, 0.29694053530693054, 0.7024399638175964, 0.7199351191520691, 0.27961763739585876, 0.06726425886154175, 0.79237300157547, 0.13990966975688934, 0.9953656196594238, 0.9938378930091858, 0.998368501663208, 0.9985302686691284, 0.9958869218826294, 0.9988586902618408, 0.37501129508018494, 0.2267804741859436, 0.2234019935131073, 0.04392024129629135, 0.10135440528392792, 0.018581639975309372, 0.0105577502399683, 0.998819887638092, 0.9945385456085205, 0.9988947510719299, 0.19933253526687622, 0.21402692794799805, 0.16994376480579376, 0.1335272490978241, 0.11159215122461319, 0.17164745926856995, 0.9995908737182617, 0.994977593421936, 0.5875190496444702, 0.32791760563850403, 0.0843905583024025, 0.9970253705978394, 0.9996853470802307, 0.21837708353996277, 0.7794848680496216, 0.9992767572402954, 0.9979599714279175, 0.9978999495506287, 0.19808252155780792, 0.6234225034713745, 0.05834989249706268, 0.11823530495166779, 0.37376683950424194, 0.07615389674901962, 0.06740057468414307, 0.06477458029985428, 0.3387535512447357, 0.05076926574110985, 0.02801062911748886, 0.9986491799354553, 0.9996638298034668, 0.999085009098053, 0.25592780113220215, 0.2214759737253189, 0.25727006793022156, 0.11006684601306915, 0.15525689721107483, 0.06853016465902328, 0.34396031498908997, 0.1034499928355217, 0.13225886225700378, 0.18071012198925018, 0.15102826058864594, 0.020078901201486588, 0.9951474666595459, 0.990808367729187, 0.9981011748313904, 0.9944949150085449, 0.8446532487869263, 0.15470142662525177, 0.8963974714279175, 0.1015336886048317, 0.13194367289543152, 0.8675803542137146, 0.999851644039154, 0.32144036889076233, 0.17785023152828217, 0.1909496933221817, 0.05894752964377403, 0.08816938102245331, 0.09018468111753464, 0.07204698026180267, 0.0808926448225975, 0.11864254623651505, 0.7981407642364502, 0.9982311725616455, 0.15779194235801697, 0.21085888147354126, 0.18033365905284882, 0.29210296273231506, 0.12397938966751099, 0.03475179895758629, 0.447469562292099, 0.5514271259307861, 0.11080936342477798, 0.21336697041988373, 0.6754655838012695, 0.9969820976257324, 0.4524303674697876, 0.5471872091293335, 0.9995657205581665, 0.2410086989402771, 0.7580444812774658, 0.9997691512107849, 0.41174885630607605, 0.5879955887794495, 0.9972314238548279, 0.3334609866142273, 0.1432206928730011, 0.12781770527362823, 0.13349248468875885, 0.10025448352098465, 0.1367352157831192, 0.02513117715716362, 0.13888652622699738, 0.03597060963511467, 0.09092571586370468, 0.12190040200948715, 0.42365387082099915, 0.14887836575508118, 0.03896816074848175, 0.9942195415496826, 0.8826743960380554, 0.11343606561422348, 0.14141759276390076, 0.12593697011470795, 0.28701913356781006, 0.2690281569957733, 0.17614440619945526, 0.3512824475765228, 0.6440178751945496, 0.9985707998275757], \"Term\": [\"absorbent\", \"acceleration\", \"accurate\", \"adapter\", \"adapter\", \"adhesive\", \"air\", \"air\", \"air\", \"alert\", \"amazon\", \"amazon\", \"amazon\", \"amp\", \"anco\", \"app\", \"application\", \"application\", \"application\", \"application\", \"applicator\", \"apply\", \"arm\", \"audi\", \"auto\", \"auto\", \"auto\", \"auto\", \"automatic\", \"bag\", \"ball\", \"basis\", \"battery\", \"beam\", \"black\", \"black\", \"black\", \"black\", \"blade\", \"block\", \"bluetooth\", \"board\", \"board\", \"bolt\", \"bosch\", \"bottle\", \"bottle\", \"brand\", \"brand\", \"brand\", \"brand\", \"bright\", \"brightness\", \"brush\", \"bucket\", \"buff\", \"buffer\", \"buffing\", \"bulb\", \"bumper\", \"buying\", \"cabin\", \"cable\", \"camper\", \"camping\", \"car\", \"car\", \"car\", \"car\", \"car\", \"carnauba\", \"carpet\", \"chain\", \"chamois\", \"change\", \"change\", \"charge\", \"charger\", \"cheap\", \"cheap\", \"cheap\", \"cheap\", \"check\", \"check\", \"chemical\", \"cigarette\", \"clay\", \"clean\", \"clean\", \"clean\", \"cleaner\", \"cleaner\", \"cleaning\", \"clear\", \"clear\", \"clear\", \"clear\", \"cloth\", \"cloth\", \"coat\", \"code\", \"cold\", \"cold\", \"cold\", \"color\", \"color\", \"color\", \"color\", \"compact\", \"compound\", \"compressor\", \"conditioner\", \"confidence\", \"connection\", \"connector\", \"connector\", \"console\", \"controller\", \"convenience\", \"cord\", \"cost\", \"cost\", \"cost\", \"cost\", \"cost\", \"cover\", \"cover\", \"crash\", \"cup\", \"datum\", \"day\", \"day\", \"day\", \"day\", \"day\", \"day\", \"dealer\", \"dealer\", \"delivery\", \"detailer\", \"device\", \"dirt\", \"dirty\", \"dirty\", \"disposable\", \"door\", \"door\", \"door\", \"drain\", \"draw\", \"drill\", \"drip\", \"driver\", \"driver\", \"driver\", \"driver\", \"dry\", \"dry\", \"dull\", \"dust\", \"duty\", \"easy\", \"easy\", \"easy\", \"easy\", \"easy\", \"easy\", \"emergency\", \"emergency\", \"end\", \"end\", \"end\", \"end\", \"end\", \"end\", \"end\", \"engine\", \"engine\", \"fabric\", \"feature\", \"feature\", \"feature\", \"feature\", \"fiber\", \"filter\", \"finish\", \"finish\", \"fit\", \"fit\", \"fit\", \"fixture\", \"fluid\", \"fluid\", \"fog\", \"front\", \"front\", \"front\", \"fuse\", \"gauge\", \"gauge\", \"gel\", \"generator\", \"glass\", \"glass\", \"glass\", \"gloss\", \"good\", \"good\", \"good\", \"good\", \"good\", \"good\", \"good\", \"great\", \"great\", \"great\", \"great\", \"great\", \"great\", \"great\", \"griot\", \"halogen\", \"hand\", \"hand\", \"hand\", \"hand\", \"handle\", \"handle\", \"harness\", \"haze\", \"head\", \"head\", \"headlight\", \"headlight\", \"heavy\", \"heavy\", \"heavy\", \"heavy\", \"helmet\", \"hid\", \"high\", \"high\", \"high\", \"high\", \"high\", \"high\", \"high\", \"hitch\", \"hole\", \"horn\", \"hose\", \"hose\", \"hose\", \"husband\", \"ice\", \"icon\", \"incandescent\", \"info\", \"information\", \"insert\", \"insert\", \"install\", \"install\", \"install\", \"install\", \"interior\", \"inverter\", \"iphone\", \"jack\", \"jeep\", \"jeep\", \"job\", \"job\", \"job\", \"job\", \"job\", \"key\", \"key\", \"kid\", \"kit\", \"kit\", \"kit\", \"kit\", \"kitchen\", \"lamp\", \"laptop\", \"large\", \"large\", \"large\", \"last\", \"last\", \"last\", \"last\", \"last\", \"last\", \"lawn\", \"leather\", \"led\", \"leg\", \"lens\", \"light\", \"lighting\", \"link\", \"lint\", \"liquid\", \"liquid\", \"little\", \"little\", \"little\", \"little\", \"little\", \"little\", \"little\", \"local\", \"local\", \"location\", \"location\", \"lock\", \"lot\", \"lot\", \"lot\", \"lot\", \"lot\", \"lot\", \"lot\", \"low\", \"low\", \"low\", \"low\", \"low\", \"low\", \"mail\", \"manual\", \"map\", \"mat\", \"meguiar\", \"metal\", \"metal\", \"micro\", \"microfiber\", \"mile\", \"mitt\", \"mobile\", \"money\", \"money\", \"money\", \"money\", \"money\", \"money\", \"monitor\", \"month\", \"month\", \"month\", \"month\", \"mother\", \"mpg\", \"mpg\", \"new\", \"new\", \"new\", \"new\", \"new\", \"new\", \"nice\", \"nice\", \"nice\", \"nice\", \"nice\", \"nice\", \"nice\", \"night\", \"night\", \"nova\", \"odor\", \"oem\", \"oem\", \"oem\", \"oil\", \"old\", \"old\", \"old\", \"old\", \"old\", \"old\", \"old\", \"outlet\", \"output\", \"pad\", \"pad\", \"paint\", \"part\", \"part\", \"part\", \"part\", \"part\", \"paste\", \"phone\", \"pink\", \"place\", \"place\", \"place\", \"place\", \"place\", \"plastic\", \"plastic\", \"plastic\", \"plastic\", \"plate\", \"pleasant\", \"plug\", \"plush\", \"pocket\", \"pocket\", \"pocket\", \"polish\", \"polisher\", \"port\", \"portion\", \"power\", \"power\", \"prep\", \"pressure\", \"pressure\", \"price\", \"price\", \"price\", \"price\", \"price\", \"privacy\", \"problem\", \"problem\", \"problem\", \"problem\", \"problem\", \"problem\", \"product\", \"product\", \"product\", \"product\", \"product\", \"product\", \"psi\", \"purple\", \"quality\", \"quality\", \"quality\", \"quality\", \"quality\", \"rain\", \"ramp\", \"receiver\", \"remote\", \"report\", \"result\", \"result\", \"result\", \"result\", \"review\", \"review\", \"review\", \"review\", \"review\", \"review\", \"rim\", \"rinse\", \"road\", \"road\", \"road\", \"road\", \"road\", \"road\", \"scan\", \"scanner\", \"scent\", \"score\", \"scraper\", \"scratch\", \"scratch\", \"screw\", \"sealant\", \"seat\", \"seat\", \"seat\", \"secure\", \"sensor\", \"service\", \"service\", \"sewer\", \"shine\", \"shiny\", \"shiny\", \"shipping\", \"side\", \"side\", \"side\", \"side\", \"signal\", \"silverado\", \"small\", \"small\", \"small\", \"small\", \"small\", \"smell\", \"smell\", \"snow\", \"soap\", \"socket\", \"socket\", \"soft\", \"soft\", \"soft\", \"solar\", \"solid\", \"solid\", \"sponge\", \"spray\", \"spray\", \"stain\", \"steel\", \"step\", \"step\", \"stock\", \"stock\", \"stock\", \"store\", \"store\", \"store\", \"strap\", \"strip\", \"strip\", \"strip\", \"stuff\", \"stuff\", \"stuff\", \"stuff\", \"sturdy\", \"summer\", \"summer\", \"sun\", \"sun\", \"sunlight\", \"surface\", \"surface\", \"surface\", \"swirl\", \"switch\", \"switch\", \"synthetic\", \"synthetic\", \"system\", \"system\", \"system\", \"tablet\", \"tailgate\", \"tank\", \"tape\", \"tend\", \"tender\", \"thing\", \"thing\", \"thing\", \"thing\", \"thing\", \"thing\", \"thing\", \"thread\", \"tie\", \"tight\", \"time\", \"time\", \"time\", \"time\", \"time\", \"time\", \"tire\", \"tongue\", \"tool\", \"tool\", \"tool\", \"torque\", \"towel\", \"toyota\", \"toyota\", \"trailer\", \"travel\", \"trim\", \"trip\", \"trip\", \"trip\", \"trip\", \"truck\", \"truck\", \"truck\", \"truck\", \"truck\", \"truck\", \"truck\", \"tube\", \"unit\", \"usb\", \"use\", \"use\", \"use\", \"use\", \"use\", \"vehicle\", \"vehicle\", \"vehicle\", \"vehicle\", \"vehicle\", \"vehicle\", \"vehicle\", \"vinyl\", \"vision\", \"visor\", \"volt\", \"wash\", \"wash\", \"washing\", \"washing\", \"water\", \"water\", \"wax\", \"way\", \"way\", \"way\", \"way\", \"way\", \"way\", \"way\", \"weather\", \"weather\", \"weather\", \"weight\", \"well\", \"well\", \"well\", \"well\", \"well\", \"well\", \"wheel\", \"wheel\", \"white\", \"white\", \"white\", \"wind\", \"window\", \"window\", \"windshield\", \"winter\", \"winter\", \"wiper\", \"wire\", \"wire\", \"wiring\", \"work\", \"work\", \"work\", \"work\", \"work\", \"work\", \"work\", \"worth\", \"worth\", \"worth\", \"worth\", \"worth\", \"worth\", \"worth\", \"wrap\", \"wrench\", \"wrench\", \"year\", \"year\", \"year\", \"year\", \"year\", \"yellow\", \"yellow\", \"zubie\"]}, \"R\": 30, \"lambda.step\": 0.01, \"plot.opts\": {\"xlab\": \"PC1\", \"ylab\": \"PC2\"}, \"topic.order\": [5, 1, 2, 6, 3, 7, 4]};\n",
       "\n",
       "function LDAvis_load_lib(url, callback){\n",
       "  var s = document.createElement('script');\n",
       "  s.src = url;\n",
       "  s.async = true;\n",
       "  s.onreadystatechange = s.onload = callback;\n",
       "  s.onerror = function(){console.warn(\"failed to load library \" + url);};\n",
       "  document.getElementsByTagName(\"head\")[0].appendChild(s);\n",
       "}\n",
       "\n",
       "if(typeof(LDAvis) !== \"undefined\"){\n",
       "   // already loaded: just create the visualization\n",
       "   !function(LDAvis){\n",
       "       new LDAvis(\"#\" + \"ldavis_el278322004972012432639402337\", ldavis_el278322004972012432639402337_data);\n",
       "   }(LDAvis);\n",
       "}else if(typeof define === \"function\" && define.amd){\n",
       "   // require.js is available: use it to load d3/LDAvis\n",
       "   require.config({paths: {d3: \"https://cdnjs.cloudflare.com/ajax/libs/d3/3.5.5/d3.min\"}});\n",
       "   require([\"d3\"], function(d3){\n",
       "      window.d3 = d3;\n",
       "      LDAvis_load_lib(\"https://cdn.rawgit.com/bmabey/pyLDAvis/files/ldavis.v1.0.0.js\", function(){\n",
       "        new LDAvis(\"#\" + \"ldavis_el278322004972012432639402337\", ldavis_el278322004972012432639402337_data);\n",
       "      });\n",
       "    });\n",
       "}else{\n",
       "    // require.js not available: dynamically load d3 & LDAvis\n",
       "    LDAvis_load_lib(\"https://cdnjs.cloudflare.com/ajax/libs/d3/3.5.5/d3.min.js\", function(){\n",
       "         LDAvis_load_lib(\"https://cdn.rawgit.com/bmabey/pyLDAvis/files/ldavis.v1.0.0.js\", function(){\n",
       "                 new LDAvis(\"#\" + \"ldavis_el278322004972012432639402337\", ldavis_el278322004972012432639402337_data);\n",
       "            })\n",
       "         });\n",
       "}\n",
       "</script>"
      ],
      "text/plain": [
       "PreparedData(topic_coordinates=              x         y  topics  cluster       Freq\n",
       "topic                                                \n",
       "4     -0.028255 -0.057850       1        1  22.287567\n",
       "0     -0.032719 -0.276126       2        1  18.118998\n",
       "1     -0.117776  0.091120       3        1  16.712717\n",
       "5     -0.032850 -0.044061       4        1  12.155456\n",
       "2     -0.050110  0.073695       5        1  12.103614\n",
       "6     -0.118156  0.158001       6        1  11.712633\n",
       "3      0.379866  0.055222       7        1   6.909019, topic_info=     Category         Freq        Term        Total  loglift  logprob\n",
       "term                                                                 \n",
       "152   Default  4542.000000       light  4542.000000  30.0000  30.0000\n",
       "38    Default  3276.000000     battery  3276.000000  29.0000  29.0000\n",
       "316   Default  6756.000000     product  6756.000000  28.0000  28.0000\n",
       "525   Default  2141.000000         wax  2141.000000  27.0000  27.0000\n",
       "529   Default  2518.000000       towel  2518.000000  26.0000  26.0000\n",
       "3     Default  9457.000000         car  9457.000000  25.0000  25.0000\n",
       "939   Default  2028.000000       wiper  2028.000000  24.0000  24.0000\n",
       "966   Default  2020.000000       blade  2020.000000  23.0000  23.0000\n",
       "2596  Default  1579.000000        bulb  1579.000000  22.0000  22.0000\n",
       "170   Default  1960.000000         oil  1960.000000  21.0000  21.0000\n",
       "335   Default  2318.000000        tire  2318.000000  20.0000  20.0000\n",
       "524   Default  2463.000000       water  2463.000000  19.0000  19.0000\n",
       "762   Default  1592.000000      device  1592.000000  18.0000  18.0000\n",
       "978   Default  1446.000000      filter  1446.000000  17.0000  17.0000\n",
       "18    Default  2499.000000       price  2499.000000  16.0000  16.0000\n",
       "1283  Default  1115.000000      bright  1115.000000  15.0000  15.0000\n",
       "97    Default  2329.000000       clean  2329.000000  14.0000  14.0000\n",
       "648   Default  1299.000000       paint  1299.000000  13.0000  13.0000\n",
       "1326  Default  1472.000000     leather  1472.000000  12.0000  12.0000\n",
       "1201  Default  1187.000000     charger  1187.000000  11.0000  11.0000\n",
       "63    Default  1652.000000       power  1652.000000  10.0000  10.0000\n",
       "733   Default  1251.000000        unit  1251.000000   9.0000   9.0000\n",
       "8     Default  6750.000000        good  6750.000000   8.0000   8.0000\n",
       "5050  Default   747.000000       phone   747.000000   7.0000   7.0000\n",
       "938   Default   910.000000  windshield   910.000000   6.0000   6.0000\n",
       "30    Default  2164.000000     quality  2164.000000   5.0000   5.0000\n",
       "85    Default  1305.000000      amazon  1305.000000   4.0000   4.0000\n",
       "710   Default   952.000000         pad   952.000000   3.0000   3.0000\n",
       "793   Default  1076.000000        plug  1076.000000   2.0000   2.0000\n",
       "1567  Default  1464.000000         kit  1464.000000   1.0000   1.0000\n",
       "...       ...          ...         ...          ...      ...      ...\n",
       "735    Topic7   114.781441        scan   115.523254   2.6659  -5.7998\n",
       "7007   Topic7   114.861382       crash   115.630142   2.6657  -5.7991\n",
       "4144   Topic7   106.775818  brightness   107.513664   2.6655  -5.8721\n",
       "3577   Topic7   103.104744  controller   103.843651   2.6652  -5.9071\n",
       "2295   Topic7    96.730156     halogen    97.467659   2.6647  -5.9709\n",
       "2573   Topic7    88.919548        horn    89.656837   2.6641  -6.0551\n",
       "3387   Topic7    79.316284        draw    80.056961   2.6630  -6.1694\n",
       "2294   Topic7    78.587532     fixture    79.325905   2.6630  -6.1786\n",
       "2433   Topic7    78.561722     monitor    79.304558   2.6629  -6.1790\n",
       "310    Topic7   345.176239       night   398.344635   2.5291  -4.6988\n",
       "1711   Topic7   333.355957      socket   395.335022   2.5018  -4.7336\n",
       "603    Topic7   573.148987       white   848.303772   2.2802  -4.1917\n",
       "1656   Topic7   295.747833       stock   412.827789   2.3388  -4.8533\n",
       "2439   Topic7   185.521652    location   232.909302   2.4449  -5.3197\n",
       "81     Topic7   386.807251        wire   658.168213   2.1408  -4.5849\n",
       "1387   Topic7   219.957184      switch   313.194031   2.3190  -5.1494\n",
       "1514   Topic7   433.262115       color   972.830688   1.8635  -4.4715\n",
       "238    Topic7   175.490646   emergency   231.056183   2.3973  -5.3753\n",
       "1517   Topic7   187.439056      yellow   290.364624   2.2347  -5.3094\n",
       "585    Topic7   207.373718         key   366.491150   2.1029  -5.2083\n",
       "678    Topic7   179.034882      pocket   290.930817   2.1868  -5.3553\n",
       "2084   Topic7   183.016464       strip   323.721222   2.1020  -5.3333\n",
       "928    Topic7   214.853210        road   560.432678   1.7136  -5.1729\n",
       "157    Topic7   237.214920         low   914.335693   1.3231  -5.0739\n",
       "2962   Topic7   183.060608   headlight   443.360229   1.7878  -5.3330\n",
       "1567   Topic7   225.381866         kit  1464.317749   0.8010  -5.1250\n",
       "138    Topic7   211.643494        high  1439.560791   0.7552  -5.1879\n",
       "59     Topic7   228.579681        nice  2375.152344   0.3314  -5.1110\n",
       "13     Topic7   209.883133      little  2553.027100   0.1739  -5.1963\n",
       "9      Topic7   212.464462       great  5272.779297  -0.5392  -5.1841\n",
       "\n",
       "[429 rows x 6 columns], token_table=       Topic      Freq          Term\n",
       "term                                \n",
       "1294       3  0.993623     absorbent\n",
       "1651       5  0.998372  acceleration\n",
       "1166       2  0.997790      accurate\n",
       "2803       2  0.844726       adapter\n",
       "2803       4  0.154759       adapter\n",
       "2096       1  0.996678      adhesive\n",
       "506        1  0.270002           air\n",
       "506        2  0.360002           air\n",
       "506        5  0.369903           air\n",
       "5995       4  0.991166         alert\n",
       "85         3  0.045179        amazon\n",
       "85         4  0.227429        amazon\n",
       "85         5  0.727466        amazon\n",
       "86         2  0.996855           amp\n",
       "6343       4  0.992712          anco\n",
       "6943       2  0.998848           app\n",
       "944        1  0.138177   application\n",
       "944        2  0.196637   application\n",
       "944        3  0.089018   application\n",
       "944        6  0.576624   application\n",
       "3331       6  0.995679    applicator\n",
       "975        6  0.995445         apply\n",
       "1583       4  0.997080           arm\n",
       "3548       5  0.995177          audi\n",
       "89         2  0.098154          auto\n",
       "89         3  0.154001          auto\n",
       "89         5  0.619388          auto\n",
       "89         6  0.128616          auto\n",
       "2874       2  0.999103     automatic\n",
       "37         7  0.998421           bag\n",
       "...      ...       ...           ...\n",
       "1199       4  0.758044        winter\n",
       "939        4  0.999769         wiper\n",
       "81         2  0.411749          wire\n",
       "81         7  0.587996          wire\n",
       "2612       7  0.997231        wiring\n",
       "220        1  0.333461          work\n",
       "220        2  0.143221          work\n",
       "220        3  0.127818          work\n",
       "220        4  0.133492          work\n",
       "220        5  0.100254          work\n",
       "220        6  0.136735          work\n",
       "220        7  0.025131          work\n",
       "222        1  0.138887         worth\n",
       "222        2  0.035971         worth\n",
       "222        3  0.090926         worth\n",
       "222        4  0.121900         worth\n",
       "222        5  0.423654         worth\n",
       "222        6  0.148878         worth\n",
       "222        7  0.038968         worth\n",
       "2140       1  0.994220          wrap\n",
       "2609       5  0.882674        wrench\n",
       "2609       7  0.113436        wrench\n",
       "273        2  0.141418          year\n",
       "273        3  0.125937          year\n",
       "273        4  0.287019          year\n",
       "273        5  0.269028          year\n",
       "273        6  0.176144          year\n",
       "1517       6  0.351282        yellow\n",
       "1517       7  0.644018        yellow\n",
       "16407      2  0.998571         zubie\n",
       "\n",
       "[681 rows x 3 columns], R=30, lambda_step=0.01, plot_opts={'xlab': 'PC1', 'ylab': 'PC2'}, topic_order=[5, 1, 2, 6, 3, 7, 4])"
      ]
     },
     "execution_count": 29,
     "metadata": {},
     "output_type": "execute_result"
    }
   ],
   "source": [
    "# Visualize the topics\n",
    "pyLDAvis.enable_notebook()\n",
    "vis = pyLDAvis.gensim.prepare(lda_model, doc_term_matrix, dictionary)\n",
    "vis"
   ]
  },
  {
   "cell_type": "code",
   "execution_count": 30,
   "metadata": {},
   "outputs": [
    {
     "data": {
      "text/plain": [
       "[(0,\n",
       "  '0.033*\"battery\" + 0.023*\"car\" + 0.015*\"power\" + 0.013*\"unit\" + 0.011*\"hose\" + 0.011*\"plug\" + 0.010*\"time\" + 0.010*\"use\" + 0.008*\"vehicle\" + 0.008*\"charge\"'),\n",
       " (1,\n",
       "  '0.038*\"car\" + 0.027*\"towel\" + 0.023*\"water\" + 0.021*\"clean\" + 0.016*\"leather\" + 0.015*\"good\" + 0.014*\"product\" + 0.013*\"use\" + 0.012*\"great\" + 0.011*\"wash\"'),\n",
       " (2,\n",
       "  '0.030*\"oil\" + 0.029*\"good\" + 0.027*\"price\" + 0.024*\"device\" + 0.022*\"filter\" + 0.019*\"product\" + 0.018*\"great\" + 0.018*\"charger\" + 0.016*\"quality\" + 0.014*\"amazon\"'),\n",
       " (3,\n",
       "  '0.120*\"light\" + 0.042*\"bulb\" + 0.029*\"bright\" + 0.020*\"phone\" + 0.015*\"white\" + 0.014*\"bag\" + 0.011*\"color\" + 0.010*\"wire\" + 0.009*\"night\" + 0.009*\"socket\"'),\n",
       " (4,\n",
       "  '0.019*\"tire\" + 0.016*\"easy\" + 0.013*\"good\" + 0.012*\"great\" + 0.010*\"fit\" + 0.010*\"work\" + 0.009*\"plastic\" + 0.009*\"use\" + 0.008*\"little\" + 0.008*\"nice\"'),\n",
       " (5,\n",
       "  '0.030*\"wiper\" + 0.030*\"blade\" + 0.014*\"windshield\" + 0.013*\"car\" + 0.010*\"rain\" + 0.010*\"year\" + 0.009*\"time\" + 0.009*\"side\" + 0.008*\"old\" + 0.008*\"good\"'),\n",
       " (6,\n",
       "  '0.051*\"product\" + 0.035*\"car\" + 0.033*\"wax\" + 0.020*\"paint\" + 0.017*\"good\" + 0.015*\"kit\" + 0.014*\"pad\" + 0.013*\"time\" + 0.012*\"black\" + 0.012*\"great\"')]"
      ]
     },
     "execution_count": 30,
     "metadata": {},
     "output_type": "execute_result"
    }
   ],
   "source": [
    "# Print the Keyword in the 10 topics\n",
    "lda_model.print_topics()"
   ]
  },
  {
   "cell_type": "markdown",
   "metadata": {},
   "source": [
    "### Other Methods to Leverage Online Reviews\n",
    "Apart from topic modeling, there are many other NLP methods as well which are used for analyzing and understanding online reviews. Some of them are listed below:\n",
    "\n",
    "Text Summarization: Summarize the reviews into a paragraph or a few bullet points.\n",
    "\n",
    "Entity Recognition: Extract entities from the reviews and identify which products are most popular (or unpopular) among the consumers.\n",
    "\n",
    "Identify Emerging Trends: Based on the timestamp of the reviews, new and emerging topics or entities can be identified. It would enable us to figure out which products are becoming popular and which are losing their grip on the market.\n",
    "\n",
    "Sentiment Analysis: For retailers, understanding the sentiment of the reviews can be helpful in improving their products and services."
   ]
  }
 ],
 "metadata": {
  "kernelspec": {
   "display_name": "Python 3",
   "language": "python",
   "name": "python3"
  },
  "language_info": {
   "codemirror_mode": {
    "name": "ipython",
    "version": 3
   },
   "file_extension": ".py",
   "mimetype": "text/x-python",
   "name": "python",
   "nbconvert_exporter": "python",
   "pygments_lexer": "ipython3",
   "version": "3.6.5"
  }
 },
 "nbformat": 4,
 "nbformat_minor": 2
}
